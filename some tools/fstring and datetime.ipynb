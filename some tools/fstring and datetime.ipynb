{
 "cells": [
  {
   "cell_type": "markdown",
   "metadata": {},
   "source": [
    "python3.6之后推荐使用的格式化字符串的形式  \n",
    "`f'' f\" \" f\"\"\" \"\"\"`"
   ]
  },
  {
   "cell_type": "code",
   "execution_count": 50,
   "metadata": {},
   "outputs": [
    {
     "name": "stdout",
     "output_type": "stream",
     "text": [
      "2019-08-13 08:23:10.828947\n",
      "2019 8 13 8 23 10\n",
      "today is August, Tuesday       2019年 08月 星期2\n"
     ]
    }
   ],
   "source": [
    "import time\n",
    "import datetime\n",
    "cTime = datetime.datetime.now()\n",
    "print(cTime)\n",
    "print(cTime.year, cTime.month, cTime.day, cTime.hour, cTime.minute, cTime.second)\n",
    "print(f'today is {cTime:%B}, {cTime:%A} \\\n",
    "      {cTime:%Y}年 {cTime:%m}月 星期{cTime:%u}')"
   ]
  },
  {
   "cell_type": "code",
   "execution_count": 62,
   "metadata": {},
   "outputs": [
    {
     "name": "stdout",
     "output_type": "stream",
     "text": [
      "2015-09-01 00:00:00\n",
      "今天是一年中的第244天， 是一年中的第35周\n"
     ]
    }
   ],
   "source": [
    "lost_Time = datetime.datetime(2015, 9, 1)\n",
    "print(lost_Time)\n",
    "print(f\"今天是一年中的第{lost_Time:%j}天， 是一年中的第{lost_Time:%U}周\")"
   ]
  },
  {
   "cell_type": "code",
   "execution_count": 63,
   "metadata": {},
   "outputs": [
    {
     "data": {
      "text/plain": [
       "datetime.timedelta(1442, 30190, 828947)"
      ]
     },
     "execution_count": 63,
     "metadata": {},
     "output_type": "execute_result"
    }
   ],
   "source": [
    "# 计算两个datetime之间的时间间隔\n",
    "dT = cTime - lost_Time\n",
    "dT "
   ]
  },
  {
   "cell_type": "code",
   "execution_count": 75,
   "metadata": {},
   "outputs": [
    {
     "data": {
      "text/plain": [
       "0.3494212962962963"
      ]
     },
     "execution_count": 75,
     "metadata": {},
     "output_type": "execute_result"
    }
   ],
   "source": [
    "dT.days\n",
    "dT.seconds/(3600*24)\n",
    "# dT.total_seconds()/(60*60*24)"
   ]
  },
  {
   "cell_type": "markdown",
   "metadata": {},
   "source": [
    "`datetime.timedelta()` :Difference between two datetime values.  \n",
    "timedelta(days=0, seconds=0, microseconds=0, milliseconds=0, minutes=0, hours=0, weeks=0)"
   ]
  },
  {
   "cell_type": "code",
   "execution_count": 64,
   "metadata": {},
   "outputs": [
    {
     "data": {
      "text/plain": [
       "datetime.datetime(2019, 11, 21, 8, 23, 10, 828947)"
      ]
     },
     "execution_count": 64,
     "metadata": {},
     "output_type": "execute_result"
    }
   ],
   "source": [
    "delta_time = datetime.timedelta(days = 100)\n",
    "cTime + delta_time"
   ]
  },
  {
   "cell_type": "code",
   "execution_count": 65,
   "metadata": {},
   "outputs": [
    {
     "name": "stdout",
     "output_type": "stream",
     "text": [
      "2019-11-21 08:23:10.828947\n"
     ]
    }
   ],
   "source": [
    "print(cTime + delta_time)"
   ]
  }
 ],
 "metadata": {
  "kernelspec": {
   "display_name": "Python [conda env:tf2]",
   "language": "python",
   "name": "conda-env-tf2-py"
  },
  "language_info": {
   "codemirror_mode": {
    "name": "ipython",
    "version": 3
   },
   "file_extension": ".py",
   "mimetype": "text/x-python",
   "name": "python",
   "nbconvert_exporter": "python",
   "pygments_lexer": "ipython3",
   "version": "3.6.9"
  }
 },
 "nbformat": 4,
 "nbformat_minor": 4
}
