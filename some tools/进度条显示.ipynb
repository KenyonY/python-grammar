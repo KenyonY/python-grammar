{
 "cells": [
  {
   "cell_type": "markdown",
   "metadata": {},
   "source": [
    "# 第一种"
   ]
  },
  {
   "cell_type": "code",
   "execution_count": 93,
   "metadata": {},
   "outputs": [
    {
     "name": "stderr",
     "output_type": "stream",
     "text": [
      "100%|████████████████████████████████████████████████████████████████████████████████| 499/499 [00:05<00:00, 93.98it/s]\n"
     ]
    }
   ],
   "source": [
    "from time import sleep\n",
    "from tqdm import tqdm\n",
    "# tqdm就是这个进度条最常用的一个方法\n",
    "# 里面存一个可迭代对象\n",
    "for i in tqdm(range(1, 500)):\n",
    "   # 待循环程序\n",
    "   sleep(0.01)"
   ]
  },
  {
   "cell_type": "markdown",
   "metadata": {},
   "source": [
    "# 第二种"
   ]
  },
  {
   "cell_type": "markdown",
   "metadata": {},
   "source": [
    "强烈推荐：\n",
    ">  \\r 默认将指针返回到最开始后输出（在原位置再次输出）\n",
    "\n",
    "它能更新上一次打印的字符"
   ]
  },
  {
   "cell_type": "code",
   "execution_count": 111,
   "metadata": {},
   "outputs": [
    {
     "name": "stdout",
     "output_type": "stream",
     "text": [
      "100%"
     ]
    }
   ],
   "source": [
    "for i in range(1,101):\n",
    "    time.sleep(0.02)\n",
    "    print('\\r{}%'.format(i),end='')"
   ]
  },
  {
   "cell_type": "markdown",
   "metadata": {},
   "source": [
    "所以，我们对上面的显示进行一些美化："
   ]
  },
  {
   "cell_type": "code",
   "execution_count": 110,
   "metadata": {},
   "outputs": [
    {
     "name": "stdout",
     "output_type": "stream",
     "text": [
      "10.1s |0.0s Percentage:==================================================>100%"
     ]
    }
   ],
   "source": [
    "t0 = time.time()\n",
    "for i in range(1,101):\n",
    "    time.sleep(0.1)\n",
    "    \n",
    "    t1 = time.time()\n",
    "    per_current = i/100\n",
    "    cost_time = t1-t0\n",
    "    Totle_time = cost_time/per_current\n",
    "    print('\\r{2:.1f}s |{3:.1f}s Percentage:{1:}>{0:}%'.format(i,i//2*'=',cost_time, Totle_time-cost_time),end='')"
   ]
  }
 ],
 "metadata": {
  "kernelspec": {
   "display_name": "Python [conda env:tf1]",
   "language": "python",
   "name": "conda-env-tf1-py"
  },
  "language_info": {
   "codemirror_mode": {
    "name": "ipython",
    "version": 3
   },
   "file_extension": ".py",
   "mimetype": "text/x-python",
   "name": "python",
   "nbconvert_exporter": "python",
   "pygments_lexer": "ipython3",
   "version": "3.6.8"
  }
 },
 "nbformat": 4,
 "nbformat_minor": 4
}
