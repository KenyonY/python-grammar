{
 "cells": [
  {
   "cell_type": "markdown",
   "metadata": {},
   "source": [
    "# 第一种"
   ]
  },
  {
   "cell_type": "code",
   "execution_count": 2,
   "metadata": {},
   "outputs": [
    {
     "name": "stderr",
     "output_type": "stream",
     "text": [
      "100%|████████████████████████████████████████████████████████████████████████████████| 499/499 [00:05<00:00, 94.43it/s]\n"
     ]
    }
   ],
   "source": [
    "import time\n",
    "from time import sleep\n",
    "from tqdm import tqdm\n",
    "# tqdm就是这个进度条最常用的一个方法\n",
    "# 里面存一个可迭代对象\n",
    "for i in tqdm(range(1, 500)):\n",
    "   # 待循环程序\n",
    "   sleep(0.01)"
   ]
  },
  {
   "cell_type": "markdown",
   "metadata": {},
   "source": [
    "# 第二种"
   ]
  },
  {
   "cell_type": "markdown",
   "metadata": {},
   "source": [
    "强烈推荐：\n",
    ">  \\r 默认将指针返回到最开始后输出（在原位置再次输出）\n",
    "\n",
    "它能更新上一次打印的字符"
   ]
  },
  {
   "cell_type": "code",
   "execution_count": 3,
   "metadata": {},
   "outputs": [
    {
     "name": "stdout",
     "output_type": "stream",
     "text": [
      "100%"
     ]
    }
   ],
   "source": [
    "for i in range(1,101):\n",
    "    time.sleep(0.02)\n",
    "    print('\\r{}%'.format(i),end='')"
   ]
  },
  {
   "cell_type": "markdown",
   "metadata": {},
   "source": [
    "所以，我们对上面的显示进行一些美化："
   ]
  },
  {
   "cell_type": "code",
   "execution_count": 5,
   "metadata": {},
   "outputs": [
    {
     "name": "stdout",
     "output_type": "stream",
     "text": [
      "10.2s |0.0s Percentage:==================================================>100%"
     ]
    }
   ],
   "source": [
    "t0 = time.time()\n",
    "for i in range(1,101):\n",
    "    time.sleep(0.1)\n",
    "    \n",
    "    t1 = time.time()\n",
    "    per_current = i/100\n",
    "    cost_time = t1-t0\n",
    "    Totle_time = cost_time/per_current\n",
    "\n",
    "    print('\\r{2:.1f}s |{3:.1f}s Percentage:{1:}>{0:}%'.format(i,i//2*'=',cost_time, Totle_time-cost_time),end='', flush=True)"
   ]
  },
  {
   "cell_type": "code",
   "execution_count": 17,
   "metadata": {},
   "outputs": [],
   "source": []
  },
  {
   "cell_type": "code",
   "execution_count": 111,
   "metadata": {},
   "outputs": [],
   "source": [
    "def probar(total, t = [], c=[]):\n",
    "    if c == []:\n",
    "        c.append(0)\n",
    "        t.append(time.time())\n",
    "\n",
    "    c[0] += 1\n",
    "    percent = c[0]/total\n",
    "\n",
    "    cost_time = time.time()-t[0]\n",
    "    Totle_time = cost_time/percent\n",
    "    print(f'\\r{cost_time:.1f}s |{Totle_time-cost_time:.1f}s ',end='', flush=True)\n",
    "\n",
    "    \n",
    "    \n",
    "    \n",
    "    "
   ]
  },
  {
   "cell_type": "code",
   "execution_count": 114,
   "metadata": {},
   "outputs": [
    {
     "name": "stdout",
     "output_type": "stream",
     "text": [
      "0.0s |0.0s "
     ]
    }
   ],
   "source": [
    "for i in range(30):\n",
    "    probar(30, t=[], c=[])\n",
    "    time.sleep(0.1)"
   ]
  },
  {
   "cell_type": "code",
   "execution_count": 39,
   "metadata": {},
   "outputs": [
    {
     "name": "stdout",
     "output_type": "stream",
     "text": [
      "0.0s |0.0s "
     ]
    }
   ],
   "source": [
    "for i in probar(range(1000)):\n",
    "    time.sleep(0.1)"
   ]
  },
  {
   "cell_type": "code",
   "execution_count": null,
   "metadata": {},
   "outputs": [],
   "source": []
  },
  {
   "cell_type": "code",
   "execution_count": 232,
   "metadata": {},
   "outputs": [
    {
     "name": "stderr",
     "output_type": "stream",
     "text": [
      "100%|██████████████████████████████████████████████████████████████████████████████████| 10/10 [00:03<00:00,  3.30it/s]\n"
     ]
    }
   ],
   "source": [
    "for i in tqdm(range(10)):\n",
    "    time.sleep(0.3)"
   ]
  },
  {
   "cell_type": "code",
   "execution_count": 231,
   "metadata": {},
   "outputs": [
    {
     "name": "stdout",
     "output_type": "stream",
     "text": [
      "100.00% \t  2.71|2.71s\n"
     ]
    }
   ],
   "source": [
    "for i in probar(range(10)):\n",
    "    time.sleep(0.3)"
   ]
  },
  {
   "cell_type": "code",
   "execution_count": 27,
   "metadata": {},
   "outputs": [
    {
     "data": {
      "text/latex": [
       "$\\displaystyle 0$"
      ],
      "text/plain": [
       "0"
      ]
     },
     "execution_count": 27,
     "metadata": {},
     "output_type": "execute_result"
    }
   ],
   "source": [
    "s.imag"
   ]
  },
  {
   "cell_type": "code",
   "execution_count": 28,
   "metadata": {},
   "outputs": [
    {
     "data": {
      "text/latex": [
       "$\\displaystyle 1$"
      ],
      "text/plain": [
       "1"
      ]
     },
     "execution_count": 28,
     "metadata": {},
     "output_type": "execute_result"
    }
   ],
   "source": [
    "s.real"
   ]
  },
  {
   "cell_type": "code",
   "execution_count": 230,
   "metadata": {},
   "outputs": [
    {
     "name": "stdout",
     "output_type": "stream",
     "text": [
      "100.00% \t  0.81|0.81s\n",
      "100.00% \t  0.81|0.81s\n",
      "100.00% \t  0.81|0.81s\n",
      "100.00% \t  0.81|0.81s\n",
      "100.00% \t  0.81|0.81s\n",
      "100.00% \t  0.82|0.82s\n",
      "100.00% \t  0.82|0.82s\n",
      "100.00% \t  5.70|5.70s\n"
     ]
    }
   ],
   "source": [
    "for  i in probar(range(2, 10)):\n",
    "    for idj, j in probar(range(1, 10)):\n",
    "        time.sleep(0.1)\n",
    "#     print(idx, i)"
   ]
  },
  {
   "cell_type": "code",
   "execution_count": 226,
   "metadata": {},
   "outputs": [],
   "source": [
    "from tqdm import tqdm"
   ]
  },
  {
   "cell_type": "code",
   "execution_count": null,
   "metadata": {},
   "outputs": [],
   "source": []
  },
  {
   "cell_type": "code",
   "execution_count": 219,
   "metadata": {},
   "outputs": [],
   "source": [
    "class probar:\n",
    "    def __init__(self, iterable, total_steps=None):\n",
    "        self.iterable = iterable\n",
    "        self.t0 = time.time()\n",
    "        self.c = 0\n",
    "        if hasattr(iterable, '__len__'):\n",
    "            self.total_steps = len(iterable) -1 \n",
    "        else:\n",
    "            print(f'{iterable} has no __len__ attr, use total_steps param')\n",
    "            self.total_steps = total_steps  \n",
    "            if self.total_steps:\n",
    "                self.total_steps = self.total_steps -1 \n",
    "        \n",
    "    def __iter__(self):\n",
    "        for idx, i in enumerate(self.iterable):\n",
    "            if idx!=0:\n",
    "                cost_time = time.time() - self.t0\n",
    "                percent = self.c/self.total_steps\n",
    "                total_time = cost_time/percent\n",
    "                deadline = \n",
    "                deadline = time.localtime(t0 + total_time)\n",
    "                if percent == 1:\n",
    "                    print(f'\\r{percent*100:.2f}% \\t  {cost_time:.2f}|{total_time:.2f}s')\n",
    "                    return idx, i\n",
    "                print(f'\\r{percent*100:.2f}% \\t  {cost_time:.2f}|{total_time:.2f}s ', end='', flush=1)\n",
    "            yield idx, i\n",
    "            self.c += 1"
   ]
  },
  {
   "cell_type": "code",
   "execution_count": 234,
   "metadata": {},
   "outputs": [],
   "source": [
    "T = time.localtime(time.time())"
   ]
  },
  {
   "cell_type": "code",
   "execution_count": 235,
   "metadata": {},
   "outputs": [
    {
     "ename": "TypeError",
     "evalue": "unsupported format string passed to time.struct_time.__format__",
     "output_type": "error",
     "traceback": [
      "\u001b[1;31m---------------------------------------------------------------------------\u001b[0m",
      "\u001b[1;31mTypeError\u001b[0m                                 Traceback (most recent call last)",
      "\u001b[1;32m<ipython-input-235-928156ce700d>\u001b[0m in \u001b[0;36m<module>\u001b[1;34m\u001b[0m\n\u001b[1;32m----> 1\u001b[1;33m \u001b[1;34mf'{T:%Y}'\u001b[0m\u001b[1;33m\u001b[0m\u001b[1;33m\u001b[0m\u001b[0m\n\u001b[0m",
      "\u001b[1;31mTypeError\u001b[0m: unsupported format string passed to time.struct_time.__format__"
     ]
    }
   ],
   "source": [
    "f'{T:%Y}'"
   ]
  },
  {
   "cell_type": "code",
   "execution_count": 236,
   "metadata": {},
   "outputs": [],
   "source": [
    "import datetime"
   ]
  },
  {
   "cell_type": "code",
   "execution_count": 237,
   "metadata": {},
   "outputs": [
    {
     "data": {
      "text/plain": [
       "datetime.datetime(2019, 12, 1, 20, 21, 49, 563042)"
      ]
     },
     "execution_count": 237,
     "metadata": {},
     "output_type": "execute_result"
    }
   ],
   "source": [
    "datetime.datetime.now()"
   ]
  },
  {
   "cell_type": "code",
   "execution_count": null,
   "metadata": {},
   "outputs": [],
   "source": []
  }
 ],
 "metadata": {
  "kernelspec": {
   "display_name": "Python [conda env:tf1]",
   "language": "python",
   "name": "conda-env-tf1-py"
  },
  "language_info": {
   "codemirror_mode": {
    "name": "ipython",
    "version": 3
   },
   "file_extension": ".py",
   "mimetype": "text/x-python",
   "name": "python",
   "nbconvert_exporter": "python",
   "pygments_lexer": "ipython3",
   "version": "3.7.4"
  }
 },
 "nbformat": 4,
 "nbformat_minor": 4
}
