{
 "cells": [
  {
   "cell_type": "markdown",
   "metadata": {},
   "source": [
    "## 如果我想下载10张图片，每隔0.5秒下载一次，也就是："
   ]
  },
  {
   "cell_type": "markdown",
   "metadata": {},
   "source": [
    "以下内容只对IO密集时起作用，对CPU密集时使用线程只会更慢，那时应该使用进程，但这里还未写。"
   ]
  },
  {
   "cell_type": "code",
   "execution_count": 64,
   "metadata": {},
   "outputs": [
    {
     "name": "stdout",
     "output_type": "stream",
     "text": [
      "工人: YKuny  正在下载: 2019-08-18 23:50:05.126603\n",
      "工人: YKuny  正在下载: 2019-08-18 23:50:05.627349\n",
      "工人: YKuny  正在下载: 2019-08-18 23:50:06.127671\n",
      "工人: YKuny  正在下载: 2019-08-18 23:50:06.628941\n",
      "工人: YKuny  正在下载: 2019-08-18 23:50:07.129635\n",
      "工人: YKuny  正在下载: 2019-08-18 23:50:07.630389\n",
      "工人: YKuny  正在下载: 2019-08-18 23:50:08.131230\n",
      "工人: YKuny  正在下载: 2019-08-18 23:50:08.631692\n",
      "工人: YKuny  正在下载: 2019-08-18 23:50:09.132482\n",
      "工人: YKuny  正在下载: 2019-08-18 23:50:09.633223\n"
     ]
    },
    {
     "data": {
      "text/plain": [
       "'YKuny'"
      ]
     },
     "execution_count": 64,
     "metadata": {},
     "output_type": "execute_result"
    }
   ],
   "source": [
    "import time\n",
    "import datetime\n",
    "\n",
    "def downloadImage(threadName, time_step, N):\n",
    "    while N:\n",
    "        time.sleep(time_step)\n",
    "        ctime = datetime.datetime.now()\n",
    "        print(f'工人:{threadName:^7} 正在下载: {ctime}')\n",
    "        N -= 1\n",
    "    return threadName\n",
    "        \n",
    "N = 10\n",
    "threadName = 'YKuny'\n",
    "downloadImage(threadName, 0.5, N)"
   ]
  },
  {
   "cell_type": "markdown",
   "metadata": {},
   "source": [
    "恩，可以看到，**很慢**."
   ]
  },
  {
   "cell_type": "markdown",
   "metadata": {},
   "source": [
    "如果这时，可以多一个进程一起来下载的话:"
   ]
  },
  {
   "cell_type": "code",
   "execution_count": 9,
   "metadata": {},
   "outputs": [],
   "source": [
    "import threading\n",
    "\n",
    "class MyThread(threading.Thread):\n",
    "    def __init__(self, threadID, threadName, N):\n",
    "        super().__init__()\n",
    "        self.threadID = threadID\n",
    "        self.threadName = threadName\n",
    "        self.N = N\n",
    "    \n",
    "    def run(self):\n",
    "        print(f\"{self.threadName}: 开始线程\")\n",
    "        downloadImage(self.threadName, 0.5, self.N)\n",
    "        print(f\"{self.threadName}: 退出线程\")"
   ]
  },
  {
   "cell_type": "code",
   "execution_count": 14,
   "metadata": {},
   "outputs": [
    {
     "name": "stdout",
     "output_type": "stream",
     "text": [
      "小1: 开始线程\n",
      "小2: 开始线程\n",
      "工人  小1    正在下载:, 2019-08-18 22:55:40.914569\n",
      "工人  小2    正在下载:, 2019-08-18 22:55:40.916006\n",
      "工人  小1    正在下载:, 2019-08-18 22:55:41.415592\n",
      "工人  小2    正在下载:, 2019-08-18 22:55:41.416800\n",
      "工人  小1    正在下载:, 2019-08-18 22:55:41.916586\n",
      "工人  小2    正在下载:, 2019-08-18 22:55:41.917993\n",
      "工人  小1    正在下载:, 2019-08-18 22:55:42.417601\n",
      "工人  小2    正在下载:, 2019-08-18 22:55:42.418832\n",
      "工人  小1    正在下载:, 2019-08-18 22:55:42.918489\n",
      "小1: 退出线程\n",
      "工人  小2    正在下载:, 2019-08-18 22:55:42.920525\n",
      "小2: 退出线程\n"
     ]
    }
   ],
   "source": [
    "thread1 = MyThread(1, '小1', 5)\n",
    "thread2 = MyThread(2, '小2', 5)\n",
    "\n",
    "# 线程调用start()方法的时候，就会去执行run方法\n",
    "thread1.start()\n",
    "thread2.start()\n",
    "\n",
    "# join()方法是为了让线程执行完再终止程序\n",
    "thread1.join()\n",
    "thread2.join()"
   ]
  },
  {
   "cell_type": "markdown",
   "metadata": {},
   "source": [
    "## 线程池\n",
    "那么，如果我要创建多线程，这样一个一个添加进去是可行的，但如果需要创建的线程很多时，频繁创建线程和销毁线程是非常浪费资源的事情。  \n",
    "所以我们有了线程池，线程池就可以重复利用线程："
   ]
  },
  {
   "cell_type": "code",
   "execution_count": 18,
   "metadata": {},
   "outputs": [],
   "source": [
    "from concurrent.futures import ThreadPoolExecutor"
   ]
  },
  {
   "cell_type": "code",
   "execution_count": 69,
   "metadata": {},
   "outputs": [
    {
     "name": "stdout",
     "output_type": "stream",
     "text": [
      "False\n",
      "工人:  t2    正在下载: 2019-08-18 23:51:37.645140\n",
      "工人:  t1    正在下载: 2019-08-18 23:51:37.646107\n",
      "False\n",
      "工人:  t1    正在下载: 2019-08-18 23:51:38.147260\n",
      "工人:  t2    正在下载: 2019-08-18 23:51:38.147723\n",
      "工人:  t1    正在下载: 2019-08-18 23:51:38.648853\n",
      "工人:  t2    正在下载: 2019-08-18 23:51:38.650333\n",
      "工人:  t1    正在下载: 2019-08-18 23:51:39.150491\n",
      "工人:  t2    正在下载: 2019-08-18 23:51:39.151950\n",
      "工人:  t1    正在下载: 2019-08-18 23:51:39.651932\n",
      "工人:  t2    正在下载: 2019-08-18 23:51:39.653677\n"
     ]
    }
   ],
   "source": [
    "with ThreadPoolExecutor(max_workers=20) as executor:\n",
    "    arg1 = ('t1', 0.5, 5)\n",
    "    arg2 = ('t2', 0.5, 5)\n",
    "    # executor.submit(fn, *args, **kwargs),其中*args是fn的参数\n",
    "    task1 = executor.submit(downloadImage, *arg1)\n",
    "    task2 = executor.submit(downloadImage, *arg2)\n",
    "    print(task1.done())\n",
    "    time.sleep(1)\n",
    "    print(task1.done())\n",
    "    \n"
   ]
  },
  {
   "cell_type": "code",
   "execution_count": 62,
   "metadata": {},
   "outputs": [
    {
     "name": "stdout",
     "output_type": "stream",
     "text": [
      "工人:  t1    正在下载: 2019-08-18 23:48:44.098747\n",
      "工人:  t2    正在下载: 2019-08-18 23:48:44.102028\n",
      "工人:  t1    正在下载: 2019-08-18 23:48:44.599709\n",
      "工人:  t2    正在下载: 2019-08-18 23:48:44.602850\n",
      "工人:  t1    正在下载: 2019-08-18 23:48:45.100473\n",
      "工人:  t2    正在下载: 2019-08-18 23:48:45.103521\n",
      "工人:  t1    正在下载: 2019-08-18 23:48:45.601182\n",
      "工人:  t2    正在下载: 2019-08-18 23:48:45.604273\n",
      "工人:  t1    正在下载: 2019-08-18 23:48:46.101949\n",
      "工人:  t2    正在下载: 2019-08-18 23:48:46.104936\n"
     ]
    }
   ],
   "source": [
    "# 当然，用字典实现函数参数也一样\n",
    "with ThreadPoolExecutor(max_workers=20) as executor: \n",
    "    dict1 = {'threadName': 't1', 'time_step':0.5, 'N':5}\n",
    "    dict2 = {'threadName': 't2', 'time_step':0.5, 'N':5}\n",
    "\n",
    "    task1 = executor.submit(downloadImage, **dict1)\n",
    "    task2 = executor.submit(downloadImage, **dict2)"
   ]
  },
  {
   "cell_type": "code",
   "execution_count": null,
   "metadata": {},
   "outputs": [],
   "source": []
  }
 ],
 "metadata": {
  "kernelspec": {
   "display_name": "Python [conda env:tf2]",
   "language": "python",
   "name": "conda-env-tf2-py"
  },
  "language_info": {
   "codemirror_mode": {
    "name": "ipython",
    "version": 3
   },
   "file_extension": ".py",
   "mimetype": "text/x-python",
   "name": "python",
   "nbconvert_exporter": "python",
   "pygments_lexer": "ipython3",
   "version": "3.6.8"
  }
 },
 "nbformat": 4,
 "nbformat_minor": 4
}
