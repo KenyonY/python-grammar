{
 "cells": [
  {
   "cell_type": "markdown",
   "metadata": {},
   "source": [
    "如果我想下载10张图片，每隔一秒下载一次，也就是："
   ]
  },
  {
   "cell_type": "code",
   "execution_count": 50,
   "metadata": {},
   "outputs": [
    {
     "data": {
      "text/plain": [
       "datetime.datetime(2019, 8, 17, 17, 32, 46, 921670)"
      ]
     },
     "execution_count": 50,
     "metadata": {},
     "output_type": "execute_result"
    }
   ],
   "source": [
    "ctime = datetime.datetime.now()\n",
    "# ctime\n",
    "datetime.datetime.utcnow()"
   ]
  },
  {
   "cell_type": "code",
   "execution_count": 51,
   "metadata": {},
   "outputs": [
    {
     "name": "stdout",
     "output_type": "stream",
     "text": [
      "工人  YKuny    正在下载:, 2019-08-18 01:36:03.679395\n",
      "工人  YKuny    正在下载:, 2019-08-18 01:36:04.179833\n",
      "工人  YKuny    正在下载:, 2019-08-18 01:36:04.680658\n",
      "工人  YKuny    正在下载:, 2019-08-18 01:36:05.181564\n",
      "工人  YKuny    正在下载:, 2019-08-18 01:36:05.682347\n",
      "工人  YKuny    正在下载:, 2019-08-18 01:36:06.183266\n",
      "工人  YKuny    正在下载:, 2019-08-18 01:36:06.684034\n",
      "工人  YKuny    正在下载:, 2019-08-18 01:36:07.184745\n",
      "工人  YKuny    正在下载:, 2019-08-18 01:36:07.685239\n",
      "工人  YKuny    正在下载:, 2019-08-18 01:36:08.186127\n"
     ]
    }
   ],
   "source": [
    "import time\n",
    "import datetime\n",
    "\n",
    "def downloadImage(threadName, time_step, N):\n",
    "    while N:\n",
    "        time.sleep(time_step)\n",
    "        ctime = datetime.datetime.now()\n",
    "        print(f'工人{threadName:^10} 正在下载:, {ctime}')\n",
    "        N -= 1\n",
    "        \n",
    "N = 10\n",
    "threadName = 'YKuny'\n",
    "downloadImage(threadName, 0.5, N)"
   ]
  },
  {
   "cell_type": "markdown",
   "metadata": {},
   "source": [
    "恩，可以看到，**很慢**."
   ]
  },
  {
   "cell_type": "markdown",
   "metadata": {},
   "source": [
    "如果这时，可以多一个进程一起来下载的话:"
   ]
  },
  {
   "cell_type": "code",
   "execution_count": 58,
   "metadata": {},
   "outputs": [],
   "source": [
    "import threading\n",
    "\n",
    "class MyThread(threading.Thread):\n",
    "    def __init__(self, threadID, threadName, N):\n",
    "        super().__init__()\n",
    "        self.threadID = threadID\n",
    "        self.threadName = threadName\n",
    "        self.N = N\n",
    "    \n",
    "    def run(self):\n",
    "        print(f\"{self.threadName}: 开始线程\")\n",
    "        downloadImage(self.threadName, 0.5, self.N)\n",
    "        print(f\"{self.threadName}: 退出线程\")\n",
    "        \n",
    "    "
   ]
  },
  {
   "cell_type": "code",
   "execution_count": 59,
   "metadata": {},
   "outputs": [
    {
     "name": "stdout",
     "output_type": "stream",
     "text": [
      "小1: 开始线程\n",
      "小2: 开始线程\n",
      "工人    小1     正在下载:, 2019-08-18 01:40:44.962005\n",
      "工人    小2     正在下载:, 2019-08-18 01:40:44.964020\n",
      "工人    小1     正在下载:, 2019-08-18 01:40:45.462422\n",
      "工人    小2     正在下载:, 2019-08-18 01:40:45.464764\n",
      "工人    小1     正在下载:, 2019-08-18 01:40:45.963285\n",
      "工人    小2     正在下载:, 2019-08-18 01:40:45.965623\n",
      "工人    小1     正在下载:, 2019-08-18 01:40:46.464150\n",
      "工人    小2     正在下载:, 2019-08-18 01:40:46.466388\n",
      "工人    小1     正在下载:, 2019-08-18 01:40:46.965159\n",
      "工人    小2     正在下载:, 2019-08-18 01:40:46.967197\n",
      "工人    小1     正在下载:, 2019-08-18 01:40:47.466078\n",
      "工人    小2     正在下载:, 2019-08-18 01:40:47.467996\n",
      "工人    小1     正在下载:, 2019-08-18 01:40:47.966929\n",
      "工人    小2     正在下载:, 2019-08-18 01:40:47.968867\n",
      "工人    小1     正在下载:, 2019-08-18 01:40:48.467806\n",
      "工人    小2     正在下载:, 2019-08-18 01:40:48.469643\n",
      "工人    小1     正在下载:, 2019-08-18 01:40:48.968633\n",
      "工人    小2     正在下载:, 2019-08-18 01:40:48.970440\n",
      "工人    小1     正在下载:, 2019-08-18 01:40:49.469473\n",
      "小1: 退出线程:\n",
      "工人    小2     正在下载:, 2019-08-18 01:40:49.471182\n",
      "小2: 退出线程:\n"
     ]
    }
   ],
   "source": [
    "thread1 = MyThread(1, '小1', 10)\n",
    "thread2 = MyThread(2, '小2', 10)\n",
    "\n",
    "# 线程调用start()方法的时候，就会去执行run方法\n",
    "thread1.start()\n",
    "thread2.start()\n",
    "\n",
    "# join()方法是为了让线程执行完再终止程序\n",
    "thread1.join()\n",
    "thread2.join()"
   ]
  },
  {
   "cell_type": "code",
   "execution_count": null,
   "metadata": {},
   "outputs": [],
   "source": []
  }
 ],
 "metadata": {
  "kernelspec": {
   "display_name": "Python [conda env:tf2]",
   "language": "python",
   "name": "conda-env-tf2-py"
  },
  "language_info": {
   "codemirror_mode": {
    "name": "ipython",
    "version": 3
   },
   "file_extension": ".py",
   "mimetype": "text/x-python",
   "name": "python",
   "nbconvert_exporter": "python",
   "pygments_lexer": "ipython3",
   "version": "3.6.9"
  }
 },
 "nbformat": 4,
 "nbformat_minor": 4
}
