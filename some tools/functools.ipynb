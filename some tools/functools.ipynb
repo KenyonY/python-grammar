{
 "cells": [
  {
   "cell_type": "code",
   "execution_count": 1,
   "metadata": {},
   "outputs": [
    {
     "data": {
      "text/plain": [
       "'/asdf\\\\asdfsdfds/sdfliwerj'"
      ]
     },
     "execution_count": 1,
     "metadata": {},
     "output_type": "execute_result"
    }
   ],
   "source": [
    "import os\n",
    "audio_dir = '/home/ritsukaginn/Documents/datacenter/audio/audio_and_text/'\n",
    "sub_dir = 'nuan4_5466'\n",
    "csv_fname = 'corrected.csv'\n",
    "os.path.join(os.path.join(audio_dir,sub_dir),csv_fname)\n",
    "def concatenate_path(path_list):\n",
    "    res = ''\n",
    "    for i in path_list:\n",
    "        res = os.path.join(res, i)\n",
    "    return res\n",
    "\n",
    "path_list = ['/asdf','asdfsdfds/','sdfliwerj']\n",
    "concatenate_path(path_list)"
   ]
  },
  {
   "cell_type": "code",
   "execution_count": 11,
   "metadata": {},
   "outputs": [],
   "source": [
    "a=['a','b','a','b','c','d']\n",
    "b=['0','1','2','3','4','5']\n",
    "res = [(x,y) for (x,y) in zip(a, b) if x!='a']"
   ]
  },
  {
   "cell_type": "code",
   "execution_count": 20,
   "metadata": {},
   "outputs": [
    {
     "data": {
      "text/plain": [
       "[('b', '1'), ('b', '3'), ('c', '4'), ('d', '5')]"
      ]
     },
     "execution_count": 20,
     "metadata": {},
     "output_type": "execute_result"
    }
   ],
   "source": [
    "res"
   ]
  },
  {
   "cell_type": "code",
   "execution_count": 21,
   "metadata": {},
   "outputs": [],
   "source": [
    "a = [x[0] for x in res]\n",
    "b = [x[1] for x in res]"
   ]
  },
  {
   "cell_type": "code",
   "execution_count": 23,
   "metadata": {},
   "outputs": [
    {
     "data": {
      "text/plain": [
       "['1', '3', '4', '5']"
      ]
     },
     "execution_count": 23,
     "metadata": {},
     "output_type": "execute_result"
    }
   ],
   "source": [
    "b"
   ]
  },
  {
   "cell_type": "code",
   "execution_count": null,
   "metadata": {},
   "outputs": [],
   "source": []
  }
 ],
 "metadata": {
  "kernelspec": {
   "display_name": "Python [conda env:mxnet]",
   "language": "python",
   "name": "conda-env-mxnet-py"
  },
  "language_info": {
   "codemirror_mode": {
    "name": "ipython",
    "version": 3
   },
   "file_extension": ".py",
   "mimetype": "text/x-python",
   "name": "python",
   "nbconvert_exporter": "python",
   "pygments_lexer": "ipython3",
   "version": "3.6.8"
  }
 },
 "nbformat": 4,
 "nbformat_minor": 4
}
