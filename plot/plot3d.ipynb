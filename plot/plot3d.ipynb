{
 "cells": [
  {
   "cell_type": "code",
   "execution_count": 1,
   "metadata": {},
   "outputs": [
    {
     "ename": "ModuleNotFoundError",
     "evalue": "No module named 'book_draw_util'",
     "output_type": "error",
     "traceback": [
      "\u001b[1;31m---------------------------------------------------------------------------\u001b[0m",
      "\u001b[1;31mModuleNotFoundError\u001b[0m                       Traceback (most recent call last)",
      "\u001b[1;32m<ipython-input-1-3d7e83b61bde>\u001b[0m in \u001b[0;36m<module>\u001b[1;34m\u001b[0m\n\u001b[0;32m      6\u001b[0m \"\"\"\n\u001b[0;32m      7\u001b[0m \u001b[1;33m\u001b[0m\u001b[0m\n\u001b[1;32m----> 8\u001b[1;33m \u001b[1;32mfrom\u001b[0m \u001b[0mbook_draw_util\u001b[0m \u001b[1;32mimport\u001b[0m \u001b[1;33m*\u001b[0m\u001b[1;33m\u001b[0m\u001b[1;33m\u001b[0m\u001b[0m\n\u001b[0m\u001b[0;32m      9\u001b[0m \u001b[1;33m\u001b[0m\u001b[0m\n\u001b[0;32m     10\u001b[0m \u001b[0mfig\u001b[0m \u001b[1;33m=\u001b[0m \u001b[0mplt\u001b[0m\u001b[1;33m.\u001b[0m\u001b[0mfigure\u001b[0m\u001b[1;33m(\u001b[0m\u001b[0mfigsize\u001b[0m\u001b[1;33m=\u001b[0m\u001b[0mSQUARE_FIG_SIZE\u001b[0m\u001b[1;33m,\u001b[0m \u001b[0mfacecolor\u001b[0m\u001b[1;33m=\u001b[0m\u001b[1;34m'white'\u001b[0m\u001b[1;33m)\u001b[0m\u001b[1;33m\u001b[0m\u001b[1;33m\u001b[0m\u001b[0m\n",
      "\u001b[1;31mModuleNotFoundError\u001b[0m: No module named 'book_draw_util'"
     ]
    }
   ],
   "source": [
    "# -*- coding: utf-8 -*-\n",
    "\"\"\"\n",
    "Created on Sat Nov 24 18:54:14 2018\n",
    "\n",
    "@author: zhangjuefei\n",
    "\"\"\"\n",
    "\n",
    "from book_draw_util import *\n",
    "\n",
    "fig = plt.figure(figsize=SQUARE_FIG_SIZE, facecolor='white')\n",
    "ax = Axes3D(fig)\n",
    "# ax.axis(\"off\")\n",
    "ax.clear()\n",
    "\n",
    "\n",
    "ax.set_xlim([-6, 6], emit=False)\n",
    "ax.set_ylim([-6, 6])\n",
    "# ax.set_zlim([0, 1])\n",
    "\n",
    "# ax.set_title(r\"$Lorenz\\ Attractor$\")\n",
    "ax.set_xlabel(r\"$x_1$\", fontsize=AXIS_LABEL_FONT_SIZE)\n",
    "ax.set_ylabel(r\"$x_2$\", fontsize=AXIS_LABEL_FONT_SIZE)\n",
    "ax.set_zlabel(r\"$y$\", fontsize=AXIS_LABEL_FONT_SIZE)\n",
    "\n",
    "def f(x1, x2):\n",
    "    global w\n",
    "    return 0.02 * (w[0] * x1 + w[1] * x2) ** 2\n",
    "\n",
    "w = (1.5, 1.5)\n",
    "arrow = Arrow3D([0, w[0]],[0, w[1]],[0,0], arrowstyle=\"-|>\", lw=1, mutation_scale=10, color=\"black\")\n",
    "ax.add_artist(arrow)\n",
    "ax.text(w[0], w[1], 0.05, r\"$w$\", fontsize=TEXT_FONT_SIZE)\n",
    "ax.plot((-6, 6), (-6, 6), (0, 0), \"k--\", alpha=ALPHA)\n",
    "\n",
    "arrow = Arrow3D([0,4],[0,0],[0,0], arrowstyle=\"-|>\", lw=1, mutation_scale=10, color=\"black\")\n",
    "ax.add_artist(arrow)\n",
    "ax.text(4.1, 0, 0, r\"$x_a$\", fontsize=TEXT_FONT_SIZE)\n",
    "\n",
    "arrow = Arrow3D([0,6],[0,-2],[0,0], arrowstyle=\"-|>\", lw=1, mutation_scale=10, color=\"black\")\n",
    "ax.add_artist(arrow)\n",
    "ax.text(5.9, -1.9, 0, r\"$x_b$\", fontsize=TEXT_FONT_SIZE)\n",
    "\n",
    "ax.plot((6.5, -1.5), (-2.5, 5.5), (0, 0), \"k--\", alpha=ALPHA)\n",
    "\n",
    "ax.text(2, 2, 1.5 * f(2,2), r\"$f\\left(x\\right)=0.02\\times\\left(w^\\mathrm{T}x\\right)^2$\", fontsize=TEXT_FONT_SIZE)\n",
    "\n",
    "x1 = np.linspace(-6, 6, endpoint=True, num=40)\n",
    "x2 = np.linspace(-6, 6, endpoint=True, num=40)\n",
    "x3 = f(x1, x2)\n",
    "ax.plot(x1, x2, x3, \"k\", alpha=ALPHA)\n",
    "\n",
    "x1, x2 = np.meshgrid(x1, x2)\n",
    "x1, x2 = x1.flatten(), x2.flatten()\n",
    "x3 = f(x1, x2)\n",
    "tri = mtri.Triangulation(x1, x2)\n",
    "ax.plot_trisurf(x1, x2, x3, antialiased=True, alpha=LIGHT_ALPHA, color=\"black\")\n",
    "\n",
    "ax.scatter(0, 0, 0, s=SMALL_POINT_SIZE, c=\"k\")\n",
    "ax.scatter(2, 2,0 , s=SMALL_POINT_SIZE, c=\"k\")\n",
    "ax.scatter(2, 2,f(2, 2) , s=SMALL_POINT_SIZE, c=\"k\")\n",
    "ax.plot(np.linspace(2, 2, endpoint=True, num=40)\n",
    ", np.linspace(2, 2, endpoint=True, num=40), np.linspace(0, f(2, 2), endpoint=True, num=40), \"k--\", alpha=ALPHA)\n",
    "\n",
    "points = np.random.multivariate_normal((3,3), [[0.3,0],[0,0.3]], 20)\n",
    "ax.scatter(points[:,0],points[:,1],[0] * 20,  color=\"k\", s=BIG_POINT_SIZE)\n",
    "\n",
    "points = np.random.multivariate_normal((-3,3), [[0.3,0],[0,0.3]], 20)\n",
    "ax.scatter(points[:,0],points[:,1],[0] * 20,  color=\"k\", facecolors=\"none\",  s=BIG_POINT_SIZE)\n",
    "\n",
    "points = np.random.multivariate_normal((3,-3), [[0.3,0],[0,0.3]], 20)\n",
    "ax.scatter(points[:,0],points[:,1],[0] * 20,  color=\"k\", facecolors=\"none\",  s=BIG_POINT_SIZE)\n",
    "\n",
    "points = np.random.multivariate_normal((-3,-3), [[0.3,0],[0,0.3]], 20)\n",
    "ax.scatter(points[:,0],points[:,1],[0] * 20,  color=\"k\", s=BIG_POINT_SIZE)"
   ]
  },
  {
   "cell_type": "code",
   "execution_count": 2,
   "metadata": {},
   "outputs": [],
   "source": [
    "import numpy as np\n",
    "import random\n",
    "import copy\n",
    "import matplotlib.pyplot as plt\n",
    "from IPython import display"
   ]
  },
  {
   "cell_type": "code",
   "execution_count": 3,
   "metadata": {},
   "outputs": [],
   "source": [
    "length = 100\n",
    "width = 200\n",
    "cell = np.zeros((length,width),int)\n",
    "cell_temp = copy.deepcopy(cell)\n"
   ]
  },
  {
   "cell_type": "code",
   "execution_count": 4,
   "metadata": {},
   "outputs": [],
   "source": [
    "for i in range(0,length):\n",
    "    for j in range(0,width):\n",
    "        cell_temp[i][j] = random.randint(0,1)"
   ]
  },
  {
   "cell_type": "code",
   "execution_count": null,
   "metadata": {},
   "outputs": [
    {
     "data": {
      "image/png": "[encoded data removed]",
      "text/plain": [
       "<Figure size 432x288 with 1 Axes>"
      ]
     },
     "metadata": {
      "image/png": {
       "height": 199,
       "width": 364
      },
      "needs_background": "light"
     },
     "output_type": "display_data"
    }
   ],
   "source": [
    "#当所有细胞状态不变时结束\n",
    "#可能存在棋盘一直周期性变化，此时如果需要结束可手动结束\n",
    "while not(cell_temp==cell).all():\n",
    "    #通过读取cell矩阵，不断判断每一个单元格是存活还是死亡，将判断结果保存在cell_temp中，最终再复制给cell矩阵\n",
    "    cell = copy.deepcopy(cell_temp)\n",
    "    #显示每一轮的图像\n",
    "    plt.imshow(cell)\n",
    "    plt.pause(0.2)\n",
    "    display.clear_output(wait=True)\n",
    "    #两重循环遍历整个矩阵，判断每个细胞下一个状态是生存还是死亡\n",
    "    for i in range(0,length):\n",
    "        for j in range(0,width):\n",
    "            '''\n",
    "            count保存一个细胞周围8个方格内有几个存活的细胞，注意这两将上下边界和左右边界连接起来进行判断，\n",
    "            如对于8*8的棋盘,[0,0]与[0,7]和[7,0]在逻辑上相邻\n",
    "            '''\n",
    "            count = cell[(i-1)%length][j] + cell[(i+1)%length][j] + cell[i][(j-1)%width] + cell[i][(j+1)%width] + cell[(i+1)%length][(j+1)%width] + cell[(i-1)%length][(j+1)%width] + cell[(i+1)%length][(j-1)%width] + cell[(i-1)%length][(j-1)%width]\n",
    "            #如果一个单元格是死亡，且周围是三个单元格则存活，否则保持死亡\n",
    "            if(cell[i][j] == 0 and count != 3):\n",
    "                continue\n",
    "            if(cell[i][j] == 0 and count == 3):\n",
    "                cell_temp[i][j] = 1\n",
    "                continue\n",
    "            #如果一个存活的单元格周围有2或3个单元格存活则该单元格继续存活，否则死亡\n",
    "            if(count == 2 or count ==3):\n",
    "                continue\n",
    "            cell_temp[i][j] = 0\n"
   ]
  }
 ],
 "metadata": {
  "kernelspec": {
   "display_name": "Python [conda env:tf2]",
   "language": "python",
   "name": "conda-env-tf2-py"
  },
  "language_info": {
   "codemirror_mode": {
    "name": "ipython",
    "version": 3
   },
   "file_extension": ".py",
   "mimetype": "text/x-python",
   "name": "python",
   "nbconvert_exporter": "python",
   "pygments_lexer": "ipython3",
   "version": "3.6.8"
  }
 },
 "nbformat": 4,
 "nbformat_minor": 4
}
