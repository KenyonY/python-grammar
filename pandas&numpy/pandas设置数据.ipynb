{
 "cells": [
  {
   "cell_type": "code",
   "execution_count": 1,
   "metadata": {},
   "outputs": [],
   "source": [
    "import pandas as pd\n",
    "import numpy as np\n",
    "from IPython.core.interactiveshell import InteractiveShell\n",
    "InteractiveShell.ast_node_interactivity = \"all\""
   ]
  },
  {
   "cell_type": "code",
   "execution_count": 2,
   "metadata": {},
   "outputs": [
    {
     "data": {
      "text/html": [
       "<div>\n",
       "<style scoped>\n",
       "    .dataframe tbody tr th:only-of-type {\n",
       "        vertical-align: middle;\n",
       "    }\n",
       "\n",
       "    .dataframe tbody tr th {\n",
       "        vertical-align: top;\n",
       "    }\n",
       "\n",
       "    .dataframe thead th {\n",
       "        text-align: right;\n",
       "    }\n",
       "</style>\n",
       "<table border=\"1\" class=\"dataframe\">\n",
       "  <thead>\n",
       "    <tr style=\"text-align: right;\">\n",
       "      <th></th>\n",
       "      <th>A</th>\n",
       "      <th>B</th>\n",
       "      <th>C</th>\n",
       "      <th>D</th>\n",
       "    </tr>\n",
       "  </thead>\n",
       "  <tbody>\n",
       "    <tr>\n",
       "      <th>2013-01-01</th>\n",
       "      <td>0.007150</td>\n",
       "      <td>0.675568</td>\n",
       "      <td>-2.032175</td>\n",
       "      <td>-0.252394</td>\n",
       "    </tr>\n",
       "    <tr>\n",
       "      <th>2013-01-02</th>\n",
       "      <td>-0.751489</td>\n",
       "      <td>0.872820</td>\n",
       "      <td>-1.806116</td>\n",
       "      <td>-0.263024</td>\n",
       "    </tr>\n",
       "    <tr>\n",
       "      <th>2013-01-03</th>\n",
       "      <td>0.317213</td>\n",
       "      <td>0.308223</td>\n",
       "      <td>-2.524472</td>\n",
       "      <td>0.173811</td>\n",
       "    </tr>\n",
       "    <tr>\n",
       "      <th>2013-01-04</th>\n",
       "      <td>1.315060</td>\n",
       "      <td>-0.950083</td>\n",
       "      <td>-1.784558</td>\n",
       "      <td>0.142510</td>\n",
       "    </tr>\n",
       "    <tr>\n",
       "      <th>2013-01-05</th>\n",
       "      <td>-1.054987</td>\n",
       "      <td>0.582504</td>\n",
       "      <td>-1.051030</td>\n",
       "      <td>0.818215</td>\n",
       "    </tr>\n",
       "    <tr>\n",
       "      <th>2013-01-06</th>\n",
       "      <td>-0.505180</td>\n",
       "      <td>-0.503410</td>\n",
       "      <td>0.195046</td>\n",
       "      <td>0.263469</td>\n",
       "    </tr>\n",
       "  </tbody>\n",
       "</table>\n",
       "</div>"
      ],
      "text/plain": [
       "                   A         B         C         D\n",
       "2013-01-01  0.007150  0.675568 -2.032175 -0.252394\n",
       "2013-01-02 -0.751489  0.872820 -1.806116 -0.263024\n",
       "2013-01-03  0.317213  0.308223 -2.524472  0.173811\n",
       "2013-01-04  1.315060 -0.950083 -1.784558  0.142510\n",
       "2013-01-05 -1.054987  0.582504 -1.051030  0.818215\n",
       "2013-01-06 -0.505180 -0.503410  0.195046  0.263469"
      ]
     },
     "execution_count": 2,
     "metadata": {},
     "output_type": "execute_result"
    }
   ],
   "source": [
    "dates = pd.date_range('20130101', periods=6)\n",
    "df = pd.DataFrame(np.random.randn(6,4), index=dates, columns=['A', 'B', 'C', 'D'])\n",
    "df"
   ]
  },
  {
   "cell_type": "code",
   "execution_count": 3,
   "metadata": {},
   "outputs": [
    {
     "name": "stdout",
     "output_type": "stream",
     "text": [
      "                   A         B            C            D   F  G\n",
      "2013-01-01  0.000000  0.675568    -2.032175    -0.252394 NaN  1\n",
      "2013-01-02 -0.751489  0.872820    -1.806116    -0.263024 NaN  2\n",
      "2013-01-03  0.000000  0.308223  1111.000000  2222.000000 NaN  3\n",
      "2013-01-04  0.000000 -0.950083    -1.784558     0.142510 NaN  4\n",
      "2013-01-05 -1.054987  0.582504    -1.051030     0.818215 NaN  5\n",
      "2013-01-06 -0.505180 -0.503410     0.195046     0.263469 NaN  6\n"
     ]
    }
   ],
   "source": [
    "df.iloc[2,2] = 1111\n",
    "df.loc['2013-01-03', 'D'] = 2222\n",
    "df.A[df.A>0] = 0\n",
    "df['F'] = np.nan\n",
    "df['G']  = pd.Series([1,2,3,4,5,6], index=pd.date_range('20130101', periods=6))\n",
    "print(df)"
   ]
  },
  {
   "cell_type": "code",
   "execution_count": 8,
   "metadata": {},
   "outputs": [
    {
     "data": {
      "text/plain": [
       "2013-01-01    0.000000\n",
       "2013-01-02   -0.751489\n",
       "2013-01-03    0.000000\n",
       "2013-01-04    0.000000\n",
       "2013-01-05   -1.054987\n",
       "2013-01-06   -0.505180\n",
       "Freq: D, Name: A, dtype: float64"
      ]
     },
     "execution_count": 8,
     "metadata": {},
     "output_type": "execute_result"
    }
   ],
   "source": [
    "df.loc[:,'A']"
   ]
  },
  {
   "cell_type": "code",
   "execution_count": null,
   "metadata": {},
   "outputs": [],
   "source": []
  }
 ],
 "metadata": {
  "kernelspec": {
   "display_name": "Python [conda env:tf2]",
   "language": "python",
   "name": "conda-env-tf2-py"
  },
  "language_info": {
   "codemirror_mode": {
    "name": "ipython",
    "version": 3
   },
   "file_extension": ".py",
   "mimetype": "text/x-python",
   "name": "python",
   "nbconvert_exporter": "python",
   "pygments_lexer": "ipython3",
   "version": "3.6.8"
  }
 },
 "nbformat": 4,
 "nbformat_minor": 4
}
