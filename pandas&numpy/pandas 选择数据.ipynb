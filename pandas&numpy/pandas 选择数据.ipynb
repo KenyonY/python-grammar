{
 "cells": [
  {
   "cell_type": "code",
   "execution_count": 8,
   "metadata": {},
   "outputs": [],
   "source": [
    "import pandas as pd\n",
    "import numpy as np\n",
    "from IPython.core.interactiveshell import InteractiveShell\n",
    "InteractiveShell.ast_node_interactivity = \"all\""
   ]
  },
  {
   "cell_type": "code",
   "execution_count": 12,
   "metadata": {},
   "outputs": [
    {
     "data": {
      "text/html": [
       "<div>\n",
       "<style scoped>\n",
       "    .dataframe tbody tr th:only-of-type {\n",
       "        vertical-align: middle;\n",
       "    }\n",
       "\n",
       "    .dataframe tbody tr th {\n",
       "        vertical-align: top;\n",
       "    }\n",
       "\n",
       "    .dataframe thead th {\n",
       "        text-align: right;\n",
       "    }\n",
       "</style>\n",
       "<table border=\"1\" class=\"dataframe\">\n",
       "  <thead>\n",
       "    <tr style=\"text-align: right;\">\n",
       "      <th></th>\n",
       "      <th>A</th>\n",
       "      <th>B</th>\n",
       "      <th>C</th>\n",
       "      <th>D</th>\n",
       "    </tr>\n",
       "  </thead>\n",
       "  <tbody>\n",
       "    <tr>\n",
       "      <th>2013-01-01</th>\n",
       "      <td>0.728855</td>\n",
       "      <td>-1.020247</td>\n",
       "      <td>-1.532188</td>\n",
       "      <td>-1.154806</td>\n",
       "    </tr>\n",
       "    <tr>\n",
       "      <th>2013-01-02</th>\n",
       "      <td>0.625028</td>\n",
       "      <td>0.243940</td>\n",
       "      <td>-0.055855</td>\n",
       "      <td>0.121370</td>\n",
       "    </tr>\n",
       "    <tr>\n",
       "      <th>2013-01-03</th>\n",
       "      <td>0.982894</td>\n",
       "      <td>0.493510</td>\n",
       "      <td>-0.374579</td>\n",
       "      <td>0.657236</td>\n",
       "    </tr>\n",
       "    <tr>\n",
       "      <th>2013-01-04</th>\n",
       "      <td>-0.495984</td>\n",
       "      <td>-0.582305</td>\n",
       "      <td>0.660837</td>\n",
       "      <td>0.147095</td>\n",
       "    </tr>\n",
       "    <tr>\n",
       "      <th>2013-01-05</th>\n",
       "      <td>-0.745652</td>\n",
       "      <td>-0.149457</td>\n",
       "      <td>-0.368424</td>\n",
       "      <td>0.044686</td>\n",
       "    </tr>\n",
       "    <tr>\n",
       "      <th>2013-01-06</th>\n",
       "      <td>-1.007360</td>\n",
       "      <td>-2.356172</td>\n",
       "      <td>0.042702</td>\n",
       "      <td>-0.528953</td>\n",
       "    </tr>\n",
       "  </tbody>\n",
       "</table>\n",
       "</div>"
      ],
      "text/plain": [
       "                   A         B         C         D\n",
       "2013-01-01  0.728855 -1.020247 -1.532188 -1.154806\n",
       "2013-01-02  0.625028  0.243940 -0.055855  0.121370\n",
       "2013-01-03  0.982894  0.493510 -0.374579  0.657236\n",
       "2013-01-04 -0.495984 -0.582305  0.660837  0.147095\n",
       "2013-01-05 -0.745652 -0.149457 -0.368424  0.044686\n",
       "2013-01-06 -1.007360 -2.356172  0.042702 -0.528953"
      ]
     },
     "execution_count": 12,
     "metadata": {},
     "output_type": "execute_result"
    },
    {
     "data": {
      "text/plain": [
       "2013-01-01    0.728855\n",
       "2013-01-02    0.625028\n",
       "2013-01-03    0.982894\n",
       "2013-01-04   -0.495984\n",
       "2013-01-05   -0.745652\n",
       "2013-01-06   -1.007360\n",
       "Freq: D, Name: A, dtype: float64"
      ]
     },
     "execution_count": 12,
     "metadata": {},
     "output_type": "execute_result"
    },
    {
     "data": {
      "text/plain": [
       "2013-01-01    0.728855\n",
       "2013-01-02    0.625028\n",
       "2013-01-03    0.982894\n",
       "2013-01-04   -0.495984\n",
       "2013-01-05   -0.745652\n",
       "2013-01-06   -1.007360\n",
       "Freq: D, Name: A, dtype: float64"
      ]
     },
     "execution_count": 12,
     "metadata": {},
     "output_type": "execute_result"
    }
   ],
   "source": [
    "dates = pd.date_range('20130101', periods=6)\n",
    "df = pd.DataFrame(np.random.randn(6,4), index=dates, columns=['A', 'B', 'C', 'D'])\n",
    "df\n",
    "df['A']\n",
    "df.A"
   ]
  },
  {
   "cell_type": "code",
   "execution_count": 13,
   "metadata": {},
   "outputs": [
    {
     "data": {
      "text/html": [
       "<div>\n",
       "<style scoped>\n",
       "    .dataframe tbody tr th:only-of-type {\n",
       "        vertical-align: middle;\n",
       "    }\n",
       "\n",
       "    .dataframe tbody tr th {\n",
       "        vertical-align: top;\n",
       "    }\n",
       "\n",
       "    .dataframe thead th {\n",
       "        text-align: right;\n",
       "    }\n",
       "</style>\n",
       "<table border=\"1\" class=\"dataframe\">\n",
       "  <thead>\n",
       "    <tr style=\"text-align: right;\">\n",
       "      <th></th>\n",
       "      <th>A</th>\n",
       "      <th>B</th>\n",
       "      <th>C</th>\n",
       "      <th>D</th>\n",
       "    </tr>\n",
       "  </thead>\n",
       "  <tbody>\n",
       "    <tr>\n",
       "      <th>2013-01-01</th>\n",
       "      <td>0.728855</td>\n",
       "      <td>-1.020247</td>\n",
       "      <td>-1.532188</td>\n",
       "      <td>-1.154806</td>\n",
       "    </tr>\n",
       "    <tr>\n",
       "      <th>2013-01-02</th>\n",
       "      <td>0.625028</td>\n",
       "      <td>0.243940</td>\n",
       "      <td>-0.055855</td>\n",
       "      <td>0.121370</td>\n",
       "    </tr>\n",
       "    <tr>\n",
       "      <th>2013-01-03</th>\n",
       "      <td>0.982894</td>\n",
       "      <td>0.493510</td>\n",
       "      <td>-0.374579</td>\n",
       "      <td>0.657236</td>\n",
       "    </tr>\n",
       "  </tbody>\n",
       "</table>\n",
       "</div>"
      ],
      "text/plain": [
       "                   A         B         C         D\n",
       "2013-01-01  0.728855 -1.020247 -1.532188 -1.154806\n",
       "2013-01-02  0.625028  0.243940 -0.055855  0.121370\n",
       "2013-01-03  0.982894  0.493510 -0.374579  0.657236"
      ]
     },
     "execution_count": 13,
     "metadata": {},
     "output_type": "execute_result"
    },
    {
     "data": {
      "text/html": [
       "<div>\n",
       "<style scoped>\n",
       "    .dataframe tbody tr th:only-of-type {\n",
       "        vertical-align: middle;\n",
       "    }\n",
       "\n",
       "    .dataframe tbody tr th {\n",
       "        vertical-align: top;\n",
       "    }\n",
       "\n",
       "    .dataframe thead th {\n",
       "        text-align: right;\n",
       "    }\n",
       "</style>\n",
       "<table border=\"1\" class=\"dataframe\">\n",
       "  <thead>\n",
       "    <tr style=\"text-align: right;\">\n",
       "      <th></th>\n",
       "      <th>A</th>\n",
       "      <th>B</th>\n",
       "      <th>C</th>\n",
       "      <th>D</th>\n",
       "    </tr>\n",
       "  </thead>\n",
       "  <tbody>\n",
       "    <tr>\n",
       "      <th>2013-01-02</th>\n",
       "      <td>0.625028</td>\n",
       "      <td>0.243940</td>\n",
       "      <td>-0.055855</td>\n",
       "      <td>0.121370</td>\n",
       "    </tr>\n",
       "    <tr>\n",
       "      <th>2013-01-03</th>\n",
       "      <td>0.982894</td>\n",
       "      <td>0.493510</td>\n",
       "      <td>-0.374579</td>\n",
       "      <td>0.657236</td>\n",
       "    </tr>\n",
       "    <tr>\n",
       "      <th>2013-01-04</th>\n",
       "      <td>-0.495984</td>\n",
       "      <td>-0.582305</td>\n",
       "      <td>0.660837</td>\n",
       "      <td>0.147095</td>\n",
       "    </tr>\n",
       "  </tbody>\n",
       "</table>\n",
       "</div>"
      ],
      "text/plain": [
       "                   A         B         C         D\n",
       "2013-01-02  0.625028  0.243940 -0.055855  0.121370\n",
       "2013-01-03  0.982894  0.493510 -0.374579  0.657236\n",
       "2013-01-04 -0.495984 -0.582305  0.660837  0.147095"
      ]
     },
     "execution_count": 13,
     "metadata": {},
     "output_type": "execute_result"
    }
   ],
   "source": [
    "df[0:3]\n",
    "df['20130102':'20130104']"
   ]
  },
  {
   "cell_type": "code",
   "execution_count": 17,
   "metadata": {},
   "outputs": [
    {
     "data": {
      "text/plain": [
       "A    0.625028\n",
       "B    0.243940\n",
       "C   -0.055855\n",
       "D    0.121370\n",
       "Name: 2013-01-02 00:00:00, dtype: float64"
      ]
     },
     "execution_count": 17,
     "metadata": {},
     "output_type": "execute_result"
    },
    {
     "data": {
      "text/plain": [
       "A    0.625028\n",
       "B    0.243940\n",
       "Name: 2013-01-02 00:00:00, dtype: float64"
      ]
     },
     "execution_count": 17,
     "metadata": {},
     "output_type": "execute_result"
    },
    {
     "data": {
      "text/html": [
       "<div>\n",
       "<style scoped>\n",
       "    .dataframe tbody tr th:only-of-type {\n",
       "        vertical-align: middle;\n",
       "    }\n",
       "\n",
       "    .dataframe tbody tr th {\n",
       "        vertical-align: top;\n",
       "    }\n",
       "\n",
       "    .dataframe thead th {\n",
       "        text-align: right;\n",
       "    }\n",
       "</style>\n",
       "<table border=\"1\" class=\"dataframe\">\n",
       "  <thead>\n",
       "    <tr style=\"text-align: right;\">\n",
       "      <th></th>\n",
       "      <th>A</th>\n",
       "      <th>B</th>\n",
       "    </tr>\n",
       "  </thead>\n",
       "  <tbody>\n",
       "    <tr>\n",
       "      <th>2013-01-01</th>\n",
       "      <td>0.728855</td>\n",
       "      <td>-1.020247</td>\n",
       "    </tr>\n",
       "    <tr>\n",
       "      <th>2013-01-02</th>\n",
       "      <td>0.625028</td>\n",
       "      <td>0.243940</td>\n",
       "    </tr>\n",
       "    <tr>\n",
       "      <th>2013-01-03</th>\n",
       "      <td>0.982894</td>\n",
       "      <td>0.493510</td>\n",
       "    </tr>\n",
       "    <tr>\n",
       "      <th>2013-01-04</th>\n",
       "      <td>-0.495984</td>\n",
       "      <td>-0.582305</td>\n",
       "    </tr>\n",
       "    <tr>\n",
       "      <th>2013-01-05</th>\n",
       "      <td>-0.745652</td>\n",
       "      <td>-0.149457</td>\n",
       "    </tr>\n",
       "    <tr>\n",
       "      <th>2013-01-06</th>\n",
       "      <td>-1.007360</td>\n",
       "      <td>-2.356172</td>\n",
       "    </tr>\n",
       "  </tbody>\n",
       "</table>\n",
       "</div>"
      ],
      "text/plain": [
       "                   A         B\n",
       "2013-01-01  0.728855 -1.020247\n",
       "2013-01-02  0.625028  0.243940\n",
       "2013-01-03  0.982894  0.493510\n",
       "2013-01-04 -0.495984 -0.582305\n",
       "2013-01-05 -0.745652 -0.149457\n",
       "2013-01-06 -1.007360 -2.356172"
      ]
     },
     "execution_count": 17,
     "metadata": {},
     "output_type": "execute_result"
    }
   ],
   "source": [
    "# select by label: loc\n",
    "df.loc['20130102'] # 行, 列\n",
    "df.loc['20130102', ['A','B']] # 行, 列\n",
    "df.loc[:,['A','B']] # 行, 列"
   ]
  },
  {
   "cell_type": "code",
   "execution_count": 18,
   "metadata": {},
   "outputs": [
    {
     "name": "stdout",
     "output_type": "stream",
     "text": [
      "A   -0.495984\n",
      "B   -0.582305\n",
      "C    0.660837\n",
      "D    0.147095\n",
      "Name: 2013-01-04 00:00:00, dtype: float64\n",
      "-0.5823049928671488\n",
      "                   A         B\n",
      "2013-01-04 -0.495984 -0.582305\n",
      "2013-01-05 -0.745652 -0.149457\n",
      "                   A         C\n",
      "2013-01-02  0.625028 -0.055855\n",
      "2013-01-03  0.982894 -0.374579\n",
      "2013-01-05 -0.745652 -0.368424\n"
     ]
    }
   ],
   "source": [
    "# select by position: iloc\n",
    "print(df.iloc[3])\n",
    "print(df.iloc[3, 1])\n",
    "print(df.iloc[3:5,0:2])\n",
    "print(df.iloc[[1,2,4],[0,2]])"
   ]
  },
  {
   "cell_type": "code",
   "execution_count": 19,
   "metadata": {},
   "outputs": [
    {
     "name": "stdout",
     "output_type": "stream",
     "text": [
      "                   A         C\n",
      "2013-01-01  0.728855 -1.532188\n",
      "2013-01-02  0.625028 -0.055855\n",
      "2013-01-03  0.982894 -0.374579\n",
      "                   A         B         C         D\n",
      "2013-01-01  0.728855 -1.020247 -1.532188 -1.154806\n",
      "2013-01-02  0.625028  0.243940 -0.055855  0.121370\n",
      "2013-01-03  0.982894  0.493510 -0.374579  0.657236\n"
     ]
    },
    {
     "name": "stderr",
     "output_type": "stream",
     "text": [
      "C:\\Miniconda\\envs\\tf2\\lib\\site-packages\\ipykernel_launcher.py:2: FutureWarning:\n",
      "\n",
      "\n",
      ".ix is deprecated. Please use\n",
      ".loc for label based indexing or\n",
      ".iloc for positional indexing\n",
      "\n",
      "See the documentation here:\n",
      "http://pandas.pydata.org/pandas-docs/stable/user_guide/indexing.html#ix-indexer-is-deprecated\n",
      "\n"
     ]
    }
   ],
   "source": [
    "# mixed selection: ix\n",
    "print(df.ix[:3, ['A', 'C']])\n",
    "# Boolean indexing\n",
    "print(df[df.A > 0])"
   ]
  },
  {
   "cell_type": "code",
   "execution_count": null,
   "metadata": {},
   "outputs": [],
   "source": []
  }
 ],
 "metadata": {
  "kernelspec": {
   "display_name": "Python [conda env:tf2]",
   "language": "python",
   "name": "conda-env-tf2-py"
  },
  "language_info": {
   "codemirror_mode": {
    "name": "ipython",
    "version": 3
   },
   "file_extension": ".py",
   "mimetype": "text/x-python",
   "name": "python",
   "nbconvert_exporter": "python",
   "pygments_lexer": "ipython3",
<<<<<<< HEAD
   "version": "3.7.4"
=======
   "version": "3.6.8"
>>>>>>> 37d9581e7c3e90b7c95cf2b5f59a4c6170a75cfc
  }
 },
 "nbformat": 4,
 "nbformat_minor": 4
}
