{
 "cells": [
  {
   "cell_type": "markdown",
   "metadata": {},
   "source": [
    "https://ipython.readthedocs.io/en/stable/interactive/magics.html"
   ]
  },
  {
   "cell_type": "code",
   "execution_count": 108,
   "metadata": {},
   "outputs": [
    {
     "name": "stdout",
     "output_type": "stream",
     "text": [
      "\n",
      "Automagic is ON, % prefix IS NOT needed for line magics.\n"
     ]
    }
   ],
   "source": [
    "%automagic # % prefix IS NOT needed for line magics.它具有最低优先级\n",
    "# 试着两次运行它"
   ]
  },
  {
   "cell_type": "code",
   "execution_count": 114,
   "metadata": {},
   "outputs": [
    {
     "name": "stdout",
     "output_type": "stream",
     "text": [
      "Wall time: 0 ns\n"
     ]
    }
   ],
   "source": [
    "time"
   ]
  },
  {
   "cell_type": "markdown",
   "metadata": {},
   "source": [
    "### ? and ??\n",
    "? 访问帮助文档  \n",
    "?? 访问源码"
   ]
  },
  {
   "cell_type": "code",
   "execution_count": 118,
   "metadata": {},
   "outputs": [
    {
     "data": {
      "text/plain": [
       "\u001b[1;31mSignature:\u001b[0m \u001b[0mnp\u001b[0m\u001b[1;33m.\u001b[0m\u001b[0margwhere\u001b[0m\u001b[1;33m(\u001b[0m\u001b[0ma\u001b[0m\u001b[1;33m)\u001b[0m\u001b[1;33m\u001b[0m\u001b[1;33m\u001b[0m\u001b[0m\n",
       "\u001b[1;31mDocstring:\u001b[0m\n",
       "Find the indices of array elements that are non-zero, grouped by element.\n",
       "\n",
       "Parameters\n",
       "----------\n",
       "a : array_like\n",
       "    Input data.\n",
       "\n",
       "Returns\n",
       "-------\n",
       "index_array : ndarray\n",
       "    Indices of elements that are non-zero. Indices are grouped by element.\n",
       "\n",
       "See Also\n",
       "--------\n",
       "where, nonzero\n",
       "\n",
       "Notes\n",
       "-----\n",
       "``np.argwhere(a)`` is the same as ``np.transpose(np.nonzero(a))``.\n",
       "\n",
       "The output of ``argwhere`` is not suitable for indexing arrays.\n",
       "For this purpose use ``nonzero(a)`` instead.\n",
       "\n",
       "Examples\n",
       "--------\n",
       ">>> x = np.arange(6).reshape(2,3)\n",
       ">>> x\n",
       "array([[0, 1, 2],\n",
       "       [3, 4, 5]])\n",
       ">>> np.argwhere(x>1)\n",
       "array([[0, 2],\n",
       "       [1, 0],\n",
       "       [1, 1],\n",
       "       [1, 2]])\n",
       "\u001b[1;31mFile:\u001b[0m      c:\\miniconda\\envs\\tf2\\lib\\site-packages\\numpy\\core\\numeric.py\n",
       "\u001b[1;31mType:\u001b[0m      function\n"
      ]
     },
     "metadata": {},
     "output_type": "display_data"
    }
   ],
   "source": [
    "import numpy as np\n",
    "np.argwhere?"
   ]
  },
  {
   "cell_type": "code",
   "execution_count": 144,
   "metadata": {},
   "outputs": [
    {
     "name": "stdout",
     "output_type": "stream",
     "text": [
      "[[0 1 2 3 4]\n",
      " [5 6 7 8 9]]\n"
     ]
    },
    {
     "data": {
      "text/plain": [
       "array([[0, 3],\n",
       "       [0, 4],\n",
       "       [1, 0],\n",
       "       [1, 1],\n",
       "       [1, 2],\n",
       "       [1, 3],\n",
       "       [1, 4]], dtype=int64)"
      ]
     },
     "execution_count": 144,
     "metadata": {},
     "output_type": "execute_result"
    }
   ],
   "source": [
    "a = np.arange(10).reshape(2,-1)\n",
    "print(a)\n",
    "np.argwhere(a>2)\n",
    "# np.transpose(np.nonzero(a>2))"
   ]
  },
  {
   "cell_type": "markdown",
   "metadata": {},
   "source": [
    "### line magic\n",
    "在IPython中，指令分为两种，以%开头的叫做line magic，这种类型的指令只能作用与一行代码，如"
   ]
  },
  {
   "cell_type": "code",
   "execution_count": 13,
   "metadata": {},
   "outputs": [
    {
     "name": "stdout",
     "output_type": "stream",
     "text": [
      "12.6 ns ± 2.64 ns per loop (mean ± std. dev. of 7 runs, 100000000 loops each)\n"
     ]
    }
   ],
   "source": [
    "# %time 执行一次的时间， %timeit 执行多次的平均时间\n",
    "%timeit a = 1"
   ]
  },
  {
   "cell_type": "markdown",
   "metadata": {},
   "source": [
    "### cell magic\n",
    "以%%开头的叫做cell magic，这种类型的指令可以作用于一个代码块，比如："
   ]
  },
  {
   "cell_type": "code",
   "execution_count": 14,
   "metadata": {},
   "outputs": [
    {
     "name": "stdout",
     "output_type": "stream",
     "text": [
      "3.41 ms ± 821 µs per loop (mean ± std. dev. of 7 runs, 100 loops each)\n"
     ]
    }
   ],
   "source": [
    "%%timeit\n",
    "def f(n):\n",
    "    if n == 0 or n == 1:\n",
    "        return n\n",
    "    return f(n-1) + f(n-2)\n",
    "    \n",
    "f(20)"
   ]
  },
  {
   "cell_type": "markdown",
   "metadata": {},
   "source": [
    "### `%run xxx.py` \n",
    "可以运行一个外部的python script，并把运行结果导入到当前的IPython上下文环境，好比说外部脚本定义了一个变量a，那么通过`%run`运行这个脚本之后就可以在IPython中继续使用这个变量。  \n"
   ]
  },
  {
   "cell_type": "markdown",
   "metadata": {},
   "source": [
    "### ！\n",
    "在IPython中可以很方便的使用Linux命令，只需要一个!就可以，比如:"
   ]
  },
  {
   "cell_type": "code",
   "execution_count": 9,
   "metadata": {},
   "outputs": [],
   "source": [
    "name = !echo hello"
   ]
  },
  {
   "cell_type": "code",
   "execution_count": 10,
   "metadata": {},
   "outputs": [
    {
     "data": {
      "text/plain": [
       "['hello']"
      ]
     },
     "execution_count": 10,
     "metadata": {},
     "output_type": "execute_result"
    }
   ],
   "source": [
    "name"
   ]
  },
  {
   "cell_type": "markdown",
   "metadata": {},
   "source": [
    "###  $\n",
    "把Python的变量结合到Linux命令中，比如:"
   ]
  },
  {
   "cell_type": "code",
   "execution_count": 11,
   "metadata": {},
   "outputs": [],
   "source": [
    "name = \"My name is Sam\""
   ]
  },
  {
   "cell_type": "code",
   "execution_count": 12,
   "metadata": {},
   "outputs": [
    {
     "name": "stdout",
     "output_type": "stream",
     "text": [
      "My name is Sam\n"
     ]
    }
   ],
   "source": [
    "!echo $name"
   ]
  },
  {
   "cell_type": "markdown",
   "metadata": {},
   "source": [
    "### %cd directory \n",
    "将系统工作目录更改为directory"
   ]
  },
  {
   "cell_type": "markdown",
   "metadata": {},
   "source": [
    "### %reset\n",
    "删除interactive命名空间中全部的变量名，有时可能要加上-f"
   ]
  },
  {
   "cell_type": "markdown",
   "metadata": {},
   "source": [
    "### %magic \n",
    "查看魔术命令"
   ]
  },
  {
   "cell_type": "markdown",
   "metadata": {},
   "source": [
    "%alias alias_name cmd 为系统shell命令定义别名\n",
    "%alias ll ls -l 将ll作为ls -l的别名暂时保存\n",
    "%who、%who_ls、%whos 显示interactive命名空间中定义的变量，信息级别/冗余度可变\n",
    "%hist 历史命令  \n",
    "%pwd 返回系统的当前工作目录\n",
    "%dirs 返回一个含有当前目录栈的列表\n",
    "%env 以dict形式返回系统环境变量"
   ]
  },
  {
   "cell_type": "code",
   "execution_count": 130,
   "metadata": {},
   "outputs": [
    {
     "data": {
      "text/plain": [
       "['a', 'f', 'i', 'name', 'os']"
      ]
     },
     "execution_count": 130,
     "metadata": {},
     "output_type": "execute_result"
    }
   ],
   "source": [
    "who_ls"
   ]
  }
 ],
 "metadata": {
  "kernelspec": {
   "display_name": "Python [conda env:tf2]",
   "language": "python",
   "name": "conda-env-tf2-py"
  },
  "language_info": {
   "codemirror_mode": {
    "name": "ipython",
    "version": 3
   },
   "file_extension": ".py",
   "mimetype": "text/x-python",
   "name": "python",
   "nbconvert_exporter": "python",
   "pygments_lexer": "ipython3",
   "version": "3.6.8"
  }
 },
 "nbformat": 4,
 "nbformat_minor": 4
}
