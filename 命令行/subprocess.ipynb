{
 "cells": [
  {
   "cell_type": "markdown",
   "metadata": {},
   "source": [
    " https://www.jianshu.com/p/430c411160f8"
   ]
  },
  {
   "cell_type": "code",
   "execution_count": 1,
   "metadata": {},
   "outputs": [],
   "source": [
    "import subprocess"
   ]
  },
  {
   "cell_type": "code",
   "execution_count": 2,
   "metadata": {},
   "outputs": [
    {
     "data": {
      "text/latex": [
       "$\\displaystyle 0$"
      ],
      "text/plain": [
       "0"
      ]
     },
     "execution_count": 2,
     "metadata": {},
     "output_type": "execute_result"
    }
   ],
   "source": [
    "# 执行命令行语句\n",
    "subprocess.call(['python','test.py']) # 等同于在命令行输入 python test.py\n",
    "# equal to subprocess.call('python test.py')\n",
    "# or\n",
    "# subprocess.run(['python','test.py'])"
   ]
  },
  {
   "cell_type": "code",
   "execution_count": 4,
   "metadata": {},
   "outputs": [
    {
     "data": {
      "text/plain": [
       "\"I'm python, I'm run !\""
      ]
     },
     "execution_count": 4,
     "metadata": {},
     "output_type": "execute_result"
    }
   ],
   "source": [
    "# 获取命令行的执行后的输出\n",
    "subprocess.getoutput(['python','test.py']) # 等用于 !python test.py"
   ]
  },
  {
   "cell_type": "code",
   "execution_count": 11,
   "metadata": {},
   "outputs": [
    {
     "data": {
      "text/plain": [
       "\"I'm python, I'm run !\""
      ]
     },
     "execution_count": 11,
     "metadata": {},
     "output_type": "execute_result"
    }
   ],
   "source": [
    "subprocess.getoutput('python test.py')"
   ]
  },
  {
   "cell_type": "code",
   "execution_count": 5,
   "metadata": {},
   "outputs": [
    {
     "name": "stdout",
     "output_type": "stream",
     "text": [
      "I'm python, I'm run !\n"
     ]
    }
   ],
   "source": [
    "!python test.py"
   ]
  },
  {
   "cell_type": "code",
   "execution_count": 6,
   "metadata": {},
   "outputs": [
    {
     "name": "stdout",
     "output_type": "stream",
     "text": [
      "I'm python, I'm run !\n"
     ]
    }
   ],
   "source": [
    "%run test"
   ]
  },
  {
   "cell_type": "code",
   "execution_count": 8,
   "metadata": {},
   "outputs": [
    {
     "name": "stdout",
     "output_type": "stream",
     "text": [
      "Looking in indexes: https://pypi.tuna.tsinghua.edu.cn/simple\n",
      "Requirement already satisfied: guang in d:\\miniconda\\envs\\tf1\\lib\\site-packages (0.0.6.2)\n",
      "Requirement already satisfied: opencv-python in d:\\miniconda\\envs\\tf1\\lib\\site-packages (from guang) (4.1.0.25)\n",
      "Requirement already satisfied: numpy in d:\\miniconda\\envs\\tf1\\lib\\site-packages (from guang) (1.16.4)\n",
      "Requirement already satisfied: matplotlib in d:\\miniconda\\envs\\tf1\\lib\\site-packages (from guang) (3.1.1)\n",
      "Requirement already satisfied: kiwisolver>=1.0.1 in d:\\miniconda\\envs\\tf1\\lib\\site-packages (from matplotlib->guang) (1.1.0)\n",
      "Requirement already satisfied: python-dateutil>=2.1 in d:\\miniconda\\envs\\tf1\\lib\\site-packages (from matplotlib->guang) (2.8.0)\n",
      "Requirement already satisfied: pyparsing!=2.0.4,!=2.1.2,!=2.1.6,>=2.0.1 in d:\\miniconda\\envs\\tf1\\lib\\site-packages (from matplotlib->guang) (2.4.2)\n",
      "Requirement already satisfied: cycler>=0.10 in d:\\miniconda\\envs\\tf1\\lib\\site-packages (from matplotlib->guang) (0.10.0)\n",
      "Requirement already satisfied: setuptools in d:\\miniconda\\envs\\tf1\\lib\\site-packages (from kiwisolver>=1.0.1->matplotlib->guang) (41.0.1)\n",
      "Requirement already satisfied: six>=1.5 in d:\\miniconda\\envs\\tf1\\lib\\site-packages (from python-dateutil>=2.1->matplotlib->guang) (1.12.0)\n"
     ]
    }
   ],
   "source": [
    "print(subprocess.getoutput(['pip','install','guang']))"
   ]
  },
  {
   "cell_type": "code",
   "execution_count": null,
   "metadata": {},
   "outputs": [],
   "source": []
  }
 ],
 "metadata": {
  "kernelspec": {
   "display_name": "Python [conda env:tf1]",
   "language": "python",
   "name": "conda-env-tf1-py"
  },
  "language_info": {
   "codemirror_mode": {
    "name": "ipython",
    "version": 3
   },
   "file_extension": ".py",
   "mimetype": "text/x-python",
   "name": "python",
   "nbconvert_exporter": "python",
   "pygments_lexer": "ipython3",
   "version": "3.7.4"
  }
 },
 "nbformat": 4,
 "nbformat_minor": 4
}
