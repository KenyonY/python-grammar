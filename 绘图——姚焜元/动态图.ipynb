{
 "cells": [
  {
   "cell_type": "code",
   "execution_count": 1,
   "metadata": {},
   "outputs": [
    {
     "data": {
      "image/png": "[encoded data removed]",
      "text/plain": [
       "<Figure size 432x288 with 1 Axes>"
      ]
     },
     "metadata": {
      "image/png": {
       "height": 250,
       "width": 389
      },
      "needs_background": "light"
     },
     "output_type": "display_data"
    }
   ],
   "source": [
    "\n",
    "import numpy as np\n",
    "import matplotlib.pyplot as plt\n",
    "from matplotlib.animation import FuncAnimation\n",
    "\n",
    "\n",
    "\n",
    "datax = np.linspace(0,100,1000)\n",
    "datay = np.sin(datax)\n",
    "\n",
    "fig, ax = plt.subplots()\n",
    "xdata, ydata = [], []\n",
    "ln, = plt.plot([], [], 'r-', animated=True)\n",
    "\n",
    "\n",
    "\n",
    "x_min, x_max  = 0, 180\n",
    "y_min, y_max  = -1, 1\n",
    "\n",
    "\n",
    "def init():\n",
    "    ax.set_xlim(x_min, x_max)\n",
    "    ax.set_ylim(y_min, y_max)\n",
    "    return ln,\n",
    "\n",
    "def update(i): # 迭代更新的数据frame 取值从frames 取得,frames = 100,表示 frame会从0到100,\n",
    "#    global datax,datay\n",
    "#    xdata.append(datax[i])\n",
    "#    ydata.append(datay[i])\n",
    "    xdata = datax[:i]\n",
    "    ydata = datay[:i]\n",
    "    ln.set_data(xdata, ydata)\n",
    "    return ln,\n",
    "\n",
    "# https://blog.csdn.net/fenghuizhidao/article/details/83090512#_156\n",
    "'''fig：将要绘制动画的画布\n",
    "artists：需要绘制的图表(artists)列表\n",
    "interval：每帧的间隔（毫秒），默认 200\n",
    "repeat_delay：再一次播放动画前停止的时间\n",
    "repeat：是否重复播放\n",
    "blit：是否使用“快传输”的方式优化绘制过程\n",
    "'''\n",
    "ani = FuncAnimation(fig, update, frames=len(datax), interval =10,\n",
    "                init_func=init, blit=True)\n",
    "plt.show()\n",
    "    \n",
    "\n",
    "# =============================================================================\n",
    "# fig, ax = plt.subplots()   #生成子图，相当于fig = plt.figure(),ax = fig.add_subplot(),其中ax的函数参数表示把当前画布进行分割，\n",
    "# #例：fig.add_subplot(2,2,2).表示将画布分割为两行两列\n",
    "# #ax在第2个子图中绘制，其中行优先，"
   ]
  },
  {
   "cell_type": "code",
   "execution_count": null,
   "metadata": {},
   "outputs": [],
   "source": []
  }
 ],
 "metadata": {
  "kernelspec": {
   "display_name": "Python 3",
   "language": "python",
   "name": "python3"
  },
  "latex_envs": {
   "LaTeX_envs_menu_present": true,
   "autoclose": false,
   "autocomplete": true,
   "bibliofile": "biblio.bib",
   "cite_by": "apalike",
   "current_citInitial": 1,
   "eqLabelWithNumbers": true,
   "eqNumInitial": 1,
   "hotkeys": {
    "equation": "Ctrl-E",
    "itemize": "Ctrl-I"
   },
   "labels_anchors": false,
   "latex_user_defs": false,
   "report_style_numbering": false,
   "user_envs_cfg": false
  },
  "nbTranslate": {
   "displayLangs": [
    "*"
   ],
   "hotkey": "alt-t",
   "langInMainMenu": true,
   "sourceLang": "en",
   "targetLang": "fr",
   "useGoogleTranslate": true
  },
  "toc": {
   "base_numbering": 1,
   "nav_menu": {},
   "number_sections": true,
   "sideBar": true,
   "skip_h1_title": false,
   "title_cell": "Table of Contents",
   "title_sidebar": "Contents",
   "toc_cell": false,
   "toc_position": {},
   "toc_section_display": true,
   "toc_window_display": false
  },
  "varInspector": {
   "cols": {
    "lenName": 16,
    "lenType": 16,
    "lenVar": 40
   },
   "kernels_config": {
    "python": {
     "delete_cmd_postfix": "",
     "delete_cmd_prefix": "del ",
     "library": "var_list.py",
     "varRefreshCmd": "print(var_dic_list())"
    },
    "r": {
     "delete_cmd_postfix": ") ",
     "delete_cmd_prefix": "rm(",
     "library": "var_list.r",
     "varRefreshCmd": "cat(var_dic_list()) "
    }
   },
   "types_to_exclude": [
    "module",
    "function",
    "builtin_function_or_method",
    "instance",
    "_Feature"
   ],
   "window_display": false
  }
 },
 "nbformat": 4,
 "nbformat_minor": 2
}
