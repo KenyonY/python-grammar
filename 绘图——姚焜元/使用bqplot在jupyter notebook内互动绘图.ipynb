{
 "cells": [
  {
   "cell_type": "code",
   "execution_count": 15,
   "metadata": {},
   "outputs": [
    {
     "data": {
      "application/vnd.jupyter.widget-view+json": {
       "model_id": "f0eda2a8da32497ca18fac8a11bd70e3",
       "version_major": 2,
       "version_minor": 0
      },
      "text/plain": [
       "interactive(children=(IntSlider(value=50, description='x'), Output()), _dom_classes=('widget-interact',))"
      ]
     },
     "metadata": {},
     "output_type": "display_data"
    }
   ],
   "source": [
    "from ipywidgets import *\n",
    "from traitlets import dlink\n",
    "def f(x):\n",
    "    if x == 1 or x==0:\n",
    "        return x\n",
    "    else:\n",
    "        return x+f(x-1)\n",
    "interact(f,x=(0,100));\n"
   ]
  },
  {
   "cell_type": "code",
   "execution_count": 8,
   "metadata": {},
   "outputs": [
    {
     "ename": "ModuleNotFoundError",
     "evalue": "No module named 'ipyleaflet'",
     "output_type": "error",
     "traceback": [
      "\u001b[0;31m---------------------------------------------------------------------------\u001b[0m",
      "\u001b[0;31mModuleNotFoundError\u001b[0m                       Traceback (most recent call last)",
      "\u001b[0;32m<ipython-input-8-5b76d01d2466>\u001b[0m in \u001b[0;36m<module>\u001b[0;34m\u001b[0m\n\u001b[0;32m----> 1\u001b[0;31m \u001b[0;32mfrom\u001b[0m \u001b[0mipyleaflet\u001b[0m \u001b[0;32mimport\u001b[0m \u001b[0mMap\u001b[0m\u001b[0;34m\u001b[0m\u001b[0;34m\u001b[0m\u001b[0m\n\u001b[0m\u001b[1;32m      2\u001b[0m \u001b[0;34m\u001b[0m\u001b[0m\n\u001b[1;32m      3\u001b[0m \u001b[0mMap\u001b[0m\u001b[0;34m(\u001b[0m\u001b[0mcenter\u001b[0m\u001b[0;34m=\u001b[0m\u001b[0;34m[\u001b[0m\u001b[0;36m34.6252978589571\u001b[0m\u001b[0;34m,\u001b[0m \u001b[0;34m-\u001b[0m\u001b[0;36m77.34580993652344\u001b[0m\u001b[0;34m]\u001b[0m\u001b[0;34m,\u001b[0m \u001b[0mzoom\u001b[0m\u001b[0;34m=\u001b[0m\u001b[0;36m10\u001b[0m\u001b[0;34m)\u001b[0m\u001b[0;34m\u001b[0m\u001b[0;34m\u001b[0m\u001b[0m\n",
      "\u001b[0;31mModuleNotFoundError\u001b[0m: No module named 'ipyleaflet'"
     ]
    }
   ],
   "source": [
    "from ipyleaflet import Map\n",
    "\n",
    "Map(center=[34.6252978589571, -77.34580993652344], zoom=10)"
   ]
  },
  {
   "cell_type": "code",
   "execution_count": 9,
   "metadata": {},
   "outputs": [],
   "source": [
    "import IPython.display as disp\n"
   ]
  },
  {
   "cell_type": "code",
   "execution_count": 10,
   "metadata": {},
   "outputs": [
    {
     "data": {
      "application/vnd.jupyter.widget-view+json": {
       "model_id": "816023834ea142718041c3a8e086c0e3",
       "version_major": 2,
       "version_minor": 0
      },
      "text/plain": [
       "interactive(children=(FloatSlider(value=0.0, description='m', max=2.0, min=-2.0), FloatSlider(value=0.0, descr…"
      ]
     },
     "metadata": {},
     "output_type": "display_data"
    }
   ],
   "source": [
    "%matplotlib inline\n",
    "# import ipympl\n",
    "import matplotlib.pyplot as plt\n",
    "# from bqplot import pyplot as plt\n",
    "import numpy as np\n",
    "def f(m,b):\n",
    "    plt.figure()\n",
    "    x = np.linspace(-10,10,1000)\n",
    "    y = m*x +b\n",
    "    plt.plot(x,y)\n",
    "    plt.ylim(-5,5)\n",
    "    plt.show()\n",
    "interactive_plot = interactive(f,m=(-2.0,2.0),b=(-3,3,0.5))\n",
    "# output = interactive_plot.children(-1)\n",
    "# output.layout.height = '300px'\n",
    "interactive_plot\n",
    "    "
   ]
  },
  {
   "cell_type": "code",
   "execution_count": 16,
   "metadata": {},
   "outputs": [
    {
     "data": {
      "application/vnd.jupyter.widget-view+json": {
       "model_id": "26665bb682074cffa663f32f12e65227",
       "version_major": 2,
       "version_minor": 0
      },
      "text/plain": [
       "Figure(fig_margin={'top': 60, 'bottom': 60, 'left': 60, 'right': 60}, layout=Layout(min_width='125px'), scale_…"
      ]
     },
     "metadata": {},
     "output_type": "display_data"
    },
    {
     "data": {
      "text/plain": [
       "Lines(colors=['#1f77b4', '#ff7f0e', '#2ca02c', '#d62728', '#9467bd', '#8c564b', '#e377c2', '#7f7f7f', '#bcbd22', '#17becf'], interactions={'hover': 'tooltip'}, scales={'x': LinearScale(), 'y': LinearScale()}, scales_metadata={'x': {'orientation': 'horizontal', 'dimension': 'x'}, 'y': {'orientation': 'vertical', 'dimension': 'y'}, 'color': {'dimension': 'color'}}, tooltip_style={'opacity': 0.9}, x=array([  0.        ,   0.50251256,   1.00502513,   1.50753769,\n",
       "         2.01005025,   2.51256281,   3.01507538,   3.51758794,\n",
       "         4.0201005 ,   4.52261307,   5.02512563,   5.52763819,\n",
       "         6.03015075,   6.53266332,   7.03517588,   7.53768844,\n",
       "         8.04020101,   8.54271357,   9.04522613,   9.54773869,\n",
       "        10.05025126,  10.55276382,  11.05527638,  11.55778894,\n",
       "        12.06030151,  12.56281407,  13.06532663,  13.5678392 ,\n",
       "        14.07035176,  14.57286432,  15.07537688,  15.57788945,\n",
       "        16.08040201,  16.58291457,  17.08542714,  17.5879397 ,\n",
       "        18.09045226,  18.59296482,  19.09547739,  19.59798995,\n",
       "        20.10050251,  20.60301508,  21.10552764,  21.6080402 ,\n",
       "        22.11055276,  22.61306533,  23.11557789,  23.61809045,\n",
       "        24.12060302,  24.62311558,  25.12562814,  25.6281407 ,\n",
       "        26.13065327,  26.63316583,  27.13567839,  27.63819095,\n",
       "        28.14070352,  28.64321608,  29.14572864,  29.64824121,\n",
       "        30.15075377,  30.65326633,  31.15577889,  31.65829146,\n",
       "        32.16080402,  32.66331658,  33.16582915,  33.66834171,\n",
       "        34.17085427,  34.67336683,  35.1758794 ,  35.67839196,\n",
       "        36.18090452,  36.68341709,  37.18592965,  37.68844221,\n",
       "        38.19095477,  38.69346734,  39.1959799 ,  39.69849246,\n",
       "        40.20100503,  40.70351759,  41.20603015,  41.70854271,\n",
       "        42.21105528,  42.71356784,  43.2160804 ,  43.71859296,\n",
       "        44.22110553,  44.72361809,  45.22613065,  45.72864322,\n",
       "        46.23115578,  46.73366834,  47.2361809 ,  47.73869347,\n",
       "        48.24120603,  48.74371859,  49.24623116,  49.74874372,\n",
       "        50.25125628,  50.75376884,  51.25628141,  51.75879397,\n",
       "        52.26130653,  52.7638191 ,  53.26633166,  53.76884422,\n",
       "        54.27135678,  54.77386935,  55.27638191,  55.77889447,\n",
       "        56.28140704,  56.7839196 ,  57.28643216,  57.78894472,\n",
       "        58.29145729,  58.79396985,  59.29648241,  59.79899497,\n",
       "        60.30150754,  60.8040201 ,  61.30653266,  61.80904523,\n",
       "        62.31155779,  62.81407035,  63.31658291,  63.81909548,\n",
       "        64.32160804,  64.8241206 ,  65.32663317,  65.82914573,\n",
       "        66.33165829,  66.83417085,  67.33668342,  67.83919598,\n",
       "        68.34170854,  68.84422111,  69.34673367,  69.84924623,\n",
       "        70.35175879,  70.85427136,  71.35678392,  71.85929648,\n",
       "        72.36180905,  72.86432161,  73.36683417,  73.86934673,\n",
       "        74.3718593 ,  74.87437186,  75.37688442,  75.87939698,\n",
       "        76.38190955,  76.88442211,  77.38693467,  77.88944724,\n",
       "        78.3919598 ,  78.89447236,  79.39698492,  79.89949749,\n",
       "        80.40201005,  80.90452261,  81.40703518,  81.90954774,\n",
       "        82.4120603 ,  82.91457286,  83.41708543,  83.91959799,\n",
       "        84.42211055,  84.92462312,  85.42713568,  85.92964824,\n",
       "        86.4321608 ,  86.93467337,  87.43718593,  87.93969849,\n",
       "        88.44221106,  88.94472362,  89.44723618,  89.94974874,\n",
       "        90.45226131,  90.95477387,  91.45728643,  91.95979899,\n",
       "        92.46231156,  92.96482412,  93.46733668,  93.96984925,\n",
       "        94.47236181,  94.97487437,  95.47738693,  95.9798995 ,\n",
       "        96.48241206,  96.98492462,  97.48743719,  97.98994975,\n",
       "        98.49246231,  98.99497487,  99.49748744, 100.        ]), y=array([ 1.72111645e-01,  1.41246017e-01,  3.28148766e-01,  4.48854475e-02,\n",
       "        2.11148537e-01,  4.65697044e-01,  7.83102526e-01,  1.15624034e+00,\n",
       "        9.03233586e-01,  7.29703667e-01,  9.64335066e-01,  8.41462877e-01,\n",
       "        9.04332671e-01,  1.28890097e+00,  1.09898732e+00,  1.36006558e+00,\n",
       "        1.81106357e+00,  2.30955563e+00,  2.25302542e+00,  2.17612113e+00,\n",
       "        1.85282636e+00,  1.71403934e+00,  1.99760255e+00,  1.97162802e+00,\n",
       "        1.53196638e+00,  1.70997983e+00,  1.79775669e+00,  2.27125585e+00,\n",
       "        2.60565859e+00,  3.06221235e+00,  3.52265609e+00,  3.32752236e+00,\n",
       "        3.66152773e+00,  3.22994074e+00,  3.09733407e+00,  3.21448006e+00,\n",
       "        3.58954823e+00,  3.73027878e+00,  4.21513039e+00,  3.80244768e+00,\n",
       "        3.90252060e+00,  3.87495185e+00,  4.14540898e+00,  3.71768205e+00,\n",
       "        3.26545323e+00,  3.10698655e+00,  2.74319298e+00,  2.37423404e+00,\n",
       "        2.05924964e+00,  1.69804823e+00,  1.48577090e+00,  1.07019314e+00,\n",
       "        1.06521052e+00,  8.44611672e-01,  5.98102599e-01,  1.06417222e+00,\n",
       "        9.98912156e-01,  9.53142624e-01,  1.19126008e+00,  1.04183556e+00,\n",
       "        1.37097436e+00,  1.64111669e+00,  1.74312167e+00,  1.96130593e+00,\n",
       "        1.61308282e+00,  1.48538826e+00,  1.21568174e+00,  9.98955215e-01,\n",
       "        9.05687199e-01,  8.10688111e-01,  3.25925667e-01,  4.42993221e-01,\n",
       "        5.71221741e-01,  6.75452261e-01,  9.28511729e-01,  6.31013114e-01,\n",
       "        1.91863436e-01,  1.12926911e-01, -1.58781287e-01,  1.75160219e-01,\n",
       "       -3.03100653e-01, -5.62619754e-01, -7.12720070e-01, -6.59145838e-01,\n",
       "       -8.48944228e-01, -3.93070365e-01, -8.85364234e-01, -6.07613668e-01,\n",
       "       -1.06400857e+00, -5.65671220e-01, -6.09164279e-01, -6.26299383e-01,\n",
       "       -5.93741273e-01, -1.97916113e-01, -3.99312320e-01, -2.69743119e-01,\n",
       "       -2.98593426e-01, -1.57005907e-02, -1.30002383e-01,  7.95725144e-04,\n",
       "       -2.53135714e-01, -2.07449374e-01,  2.24650505e-01,  2.08699838e-01,\n",
       "       -1.80615743e-01,  1.90515655e-01,  1.41621919e-01,  1.08204970e-01,\n",
       "        1.73585827e-01,  4.66464779e-01,  5.42658621e-01,  8.55138708e-01,\n",
       "        4.71361814e-01,  7.42616903e-01,  1.15140472e+00,  1.22938268e+00,\n",
       "        1.13813876e+00,  6.68969913e-01,  4.65900904e-01,  5.82788429e-01,\n",
       "        9.85902142e-02,  1.23928284e-01,  2.49355321e-01,  6.55339391e-01,\n",
       "        5.37468443e-01,  7.69455921e-01,  7.51031912e-01,  8.26948758e-01,\n",
       "        9.18656845e-01,  1.14308890e+00,  1.24279456e+00,  8.17874254e-01,\n",
       "        1.15730770e+00,  1.49116404e+00,  1.22473741e+00,  1.28648974e+00,\n",
       "        1.20181740e+00,  1.43889468e+00,  1.73861629e+00,  1.97621426e+00,\n",
       "        1.94683910e+00,  1.68951429e+00,  1.64739039e+00,  1.99603121e+00,\n",
       "        2.03812720e+00,  2.53169121e+00,  2.63394999e+00,  2.31807263e+00,\n",
       "        2.42677102e+00,  2.28470818e+00,  2.37783770e+00,  2.08462044e+00,\n",
       "        2.21961075e+00,  2.37530830e+00,  2.67865389e+00,  3.10989812e+00,\n",
       "        2.62776793e+00,  2.35042305e+00,  2.27341073e+00,  2.45295885e+00,\n",
       "        2.43135302e+00,  2.20500097e+00,  1.78265992e+00,  1.77320133e+00,\n",
       "        2.03765574e+00,  2.39496767e+00,  2.36483211e+00,  1.87843158e+00,\n",
       "        2.02847363e+00,  2.02448961e+00,  1.66824980e+00,  1.42476718e+00,\n",
       "        9.47188141e-01,  7.63803236e-01,  8.04272339e-01,  6.38129926e-01,\n",
       "        5.43484061e-01,  7.17065028e-01,  1.12357715e+00,  1.05178603e+00,\n",
       "        7.12546474e-01,  4.35974097e-01,  2.97625253e-01,  1.87023225e-01,\n",
       "        7.12449303e-02,  1.19790630e-01,  5.54958586e-01,  9.89944456e-01,\n",
       "        9.63734315e-01,  1.16411107e+00,  1.46724218e+00,  1.52955003e+00,\n",
       "        1.82133610e+00,  1.74430670e+00,  1.97216534e+00,  1.87130284e+00,\n",
       "        1.79528978e+00,  1.54994203e+00,  1.30240318e+00,  1.79658288e+00]))"
      ]
     },
     "execution_count": 16,
     "metadata": {},
     "output_type": "execute_result"
    },
    {
     "data": {
      "application/vnd.jupyter.widget-view+json": {
       "model_id": "7c62bbfcddfc40bbabcfb3232b3b3509",
       "version_major": 2,
       "version_minor": 0
      },
      "text/plain": [
       "VBox(children=(Figure(axes=[Axis(scale=LinearScale()), Axis(orientation='vertical', scale=LinearScale())], fig…"
      ]
     },
     "metadata": {},
     "output_type": "display_data"
    }
   ],
   "source": [
    "\n",
    "from bqplot import pyplot as plt\n",
    "import numpy as np\n",
    "\n",
    "plt.figure()\n",
    "n = 200\n",
    "x = np.linspace(0,100,n)\n",
    "\n",
    "y = np.cumsum(np.random.random(n)-0.5)\n",
    "\n",
    "plt.plot(x,y)\n",
    "plt.show()"
   ]
  },
  {
   "cell_type": "code",
   "execution_count": 12,
   "metadata": {},
   "outputs": [
    {
     "data": {
      "application/vnd.jupyter.widget-view+json": {
       "model_id": "9544e8d5e3fb49b1b993b5bee3da6f93",
       "version_major": 2,
       "version_minor": 0
      },
      "text/plain": [
       "Figure(fig_margin={'top': 60, 'bottom': 60, 'left': 60, 'right': 60}, layout=Layout(min_width='125px'), scale_…"
      ]
     },
     "metadata": {},
     "output_type": "display_data"
    },
    {
     "data": {
      "text/plain": [
       "Lines(colors=['#1f77b4', '#ff7f0e', '#2ca02c', '#d62728', '#9467bd', '#8c564b', '#e377c2', '#7f7f7f', '#bcbd22', '#17becf'], interactions={'hover': 'tooltip'}, scales={'x': LinearScale(), 'y': LinearScale()}, scales_metadata={'x': {'orientation': 'horizontal', 'dimension': 'x'}, 'y': {'orientation': 'vertical', 'dimension': 'y'}, 'color': {'dimension': 'color'}}, tooltip_style={'opacity': 0.9}, x=array([  0,   1,   2,   3,   4,   5,   6,   7,   8,   9,  10,  11,  12,\n",
       "        13,  14,  15,  16,  17,  18,  19,  20,  21,  22,  23,  24,  25,\n",
       "        26,  27,  28,  29,  30,  31,  32,  33,  34,  35,  36,  37,  38,\n",
       "        39,  40,  41,  42,  43,  44,  45,  46,  47,  48,  49,  50,  51,\n",
       "        52,  53,  54,  55,  56,  57,  58,  59,  60,  61,  62,  63,  64,\n",
       "        65,  66,  67,  68,  69,  70,  71,  72,  73,  74,  75,  76,  77,\n",
       "        78,  79,  80,  81,  82,  83,  84,  85,  86,  87,  88,  89,  90,\n",
       "        91,  92,  93,  94,  95,  96,  97,  98,  99, 100, 101, 102, 103,\n",
       "       104, 105, 106, 107, 108, 109, 110, 111, 112, 113, 114, 115, 116,\n",
       "       117, 118, 119, 120, 121, 122, 123, 124, 125, 126, 127, 128, 129,\n",
       "       130, 131, 132, 133, 134, 135, 136, 137, 138, 139, 140, 141, 142,\n",
       "       143, 144, 145, 146, 147, 148, 149, 150, 151, 152, 153, 154, 155,\n",
       "       156, 157, 158, 159, 160, 161, 162, 163, 164, 165, 166, 167, 168,\n",
       "       169, 170, 171, 172, 173, 174, 175, 176, 177, 178, 179, 180, 181,\n",
       "       182, 183, 184, 185, 186, 187, 188, 189, 190, 191, 192, 193, 194,\n",
       "       195, 196, 197, 198, 199]), y=array([-3.70008440e-01, -2.97529649e-02, -1.23069922e+00, -3.74363875e-01,\n",
       "        1.51297261e+00, -4.42383218e-01, -1.00347291e+00,  3.26811329e-01,\n",
       "        1.35368124e+00,  2.49956434e-01, -1.00931879e-02,  1.54810877e-01,\n",
       "        7.41109820e-01, -1.08481909e+00, -7.03859370e-01,  1.61261438e+00,\n",
       "        2.21450996e-01,  2.14915639e+00, -1.02190917e+00,  1.46675463e+00,\n",
       "        8.82896562e-01,  1.85665499e-01, -4.93559574e-01, -1.16351951e-01,\n",
       "        2.04932623e-01,  1.57583558e+00, -1.15026333e+00, -8.13376935e-01,\n",
       "        1.30687991e+00, -5.31348360e-01,  9.29361251e-01, -8.23740452e-01,\n",
       "        1.37930150e-01,  1.45296133e+00, -5.05398353e-01,  2.87298681e-02,\n",
       "        3.72929796e-01,  1.45267287e+00, -8.90787788e-01,  7.71227232e-01,\n",
       "       -8.88894618e-02,  3.73513726e-01,  1.05239875e+00, -1.69213851e+00,\n",
       "       -4.42785389e-01,  3.63768259e-01,  1.10745261e-01, -1.43376417e+00,\n",
       "       -1.15564981e-01,  5.35170825e-01,  2.83781235e-01, -1.71603989e+00,\n",
       "        7.25919037e-01,  7.70379301e-01,  6.70214552e-02, -1.14511772e+00,\n",
       "        5.66718801e-01, -2.01265276e-01, -3.83974317e-01, -1.29635421e+00,\n",
       "        7.03073423e-01, -6.47728543e-01,  1.21123391e-01,  2.53152206e-02,\n",
       "        1.81239179e-01, -1.36966598e+00, -1.78740603e-01,  1.06341408e-01,\n",
       "       -1.23823885e+00, -1.37778388e+00,  1.95621316e-01,  9.19749628e-01,\n",
       "        1.00663823e-01,  1.79307323e+00,  4.11654603e-01, -5.63684211e-01,\n",
       "       -2.02209036e+00,  5.58821206e-01, -1.14429800e+00,  2.87783135e-01,\n",
       "        1.11286693e+00, -1.52239886e+00,  2.71546636e-01,  1.66905247e-01,\n",
       "       -1.61578413e+00,  7.86047724e-01,  3.13316442e-01, -4.59736054e-01,\n",
       "       -1.72018181e-01,  2.06451000e+00,  6.01536811e-01, -5.12263517e-01,\n",
       "        2.84216985e-02,  1.12260953e+00, -8.68318470e-01,  1.68255307e-01,\n",
       "       -9.64945379e-02, -6.14369323e-01, -1.83485132e+00,  1.17685167e+00,\n",
       "        3.52839293e-01,  3.54047038e-01, -9.61491554e-01, -1.35410811e-01,\n",
       "       -7.16679453e-01, -9.98661520e-01, -3.88998212e-01, -5.22699333e-01,\n",
       "       -9.22809928e-01,  1.89079701e-01,  1.96589747e-01, -1.13751959e-02,\n",
       "       -1.77580415e+00, -2.25915947e-01,  1.38499940e-01,  8.59562841e-01,\n",
       "        1.09286034e+00, -1.44306814e+00, -1.86474724e+00, -1.27903614e+00,\n",
       "        3.82703861e-01,  1.31194708e+00, -4.86820942e-01, -1.66617070e+00,\n",
       "       -2.02758065e+00,  1.91547276e+00,  3.80196984e-01, -2.38847437e-01,\n",
       "       -1.09191675e+00,  1.38649091e+00, -1.01987616e-01,  1.39175431e+00,\n",
       "       -3.74470202e-01,  6.92711854e-03, -1.92036773e-02, -3.43225873e-01,\n",
       "        1.02809879e-01,  6.75045641e-01,  3.89545775e-01, -4.12863647e-01,\n",
       "       -7.41372966e-01,  2.73670223e+00, -6.97221796e-01, -6.58834856e-01,\n",
       "        1.32244844e+00,  7.93598612e-01, -1.24964573e+00,  1.36963801e+00,\n",
       "       -3.46257096e-01, -7.21345364e-01, -1.45106241e+00, -2.05136865e+00,\n",
       "        8.69462295e-01, -1.53248005e-01, -9.83542464e-01, -6.24206269e-01,\n",
       "       -3.35347947e-01, -3.55229316e-01,  8.47750732e-01,  4.22721865e-01,\n",
       "       -1.08748765e+00, -8.93998980e-02,  8.86907159e-01, -1.37019547e+00,\n",
       "       -7.21911631e-01, -1.07078726e+00, -8.56664664e-01, -9.36655726e-01,\n",
       "        4.35919386e-01,  1.46213958e+00,  7.85313023e-01, -1.24597735e+00,\n",
       "       -6.12142704e-01, -7.58359853e-01, -1.05400124e+00, -1.30462754e+00,\n",
       "        2.15644891e-03,  7.11478120e-01, -1.22015559e+00,  3.49998293e-01,\n",
       "       -6.48688445e-01,  7.23962231e-01,  2.88134460e-01, -1.46694679e+00,\n",
       "       -1.03544924e-01, -1.12458613e+00, -7.73638744e-01,  3.62816397e-01,\n",
       "        1.75548756e+00, -8.28464242e-01, -3.63834341e-01, -7.14835595e-01,\n",
       "       -4.22734260e-01,  1.16264023e+00, -1.91036141e+00, -4.33803439e-01,\n",
       "        9.81798214e-01,  4.03594868e-01, -1.11071941e+00, -1.02203161e+00]))"
      ]
     },
     "execution_count": 12,
     "metadata": {},
     "output_type": "execute_result"
    },
    {
     "data": {
      "application/vnd.jupyter.widget-view+json": {
       "model_id": "798ad8a2f8b84b0697d5bb4fe6aed96e",
       "version_major": 2,
       "version_minor": 0
      },
      "text/plain": [
       "VBox(children=(Figure(axes=[Axis(scale=LinearScale()), Axis(orientation='vertical', scale=LinearScale())], fig…"
      ]
     },
     "metadata": {},
     "output_type": "display_data"
    }
   ],
   "source": [
    "plt.figure()\n",
    "plt.plot(np.random.randn(200))\n",
    "plt.show()"
   ]
  },
  {
   "cell_type": "code",
   "execution_count": 18,
   "metadata": {},
   "outputs": [
    {
     "data": {
      "application/vnd.jupyter.widget-view+json": {
       "model_id": "cd272a5df8294283beb96eaf077a1aa3",
       "version_major": 2,
       "version_minor": 0
      },
      "text/plain": [
       "Figure(axes=[Axis(label='Test X', scale=LinearScale(), tick_format='0.0f'), Axis(label='Test Y', orientation='…"
      ]
     },
     "metadata": {},
     "output_type": "display_data"
    }
   ],
   "source": [
    "from bqplot import *\n",
    "from IPython.display import display\n",
    "\n",
    "x_data = range(10)\n",
    "y_data = [i ** 2 for i in x_data]\n",
    "\n",
    "x_sc = LinearScale()\n",
    "y_sc = LinearScale()\n",
    "\n",
    "ax_x = Axis(label='Test X', scale=x_sc, tick_format='0.0f')\n",
    "ax_y = Axis(label='Test Y', scale=y_sc,\n",
    "            orientation='vertical', tick_format='0.2f')\n",
    "\n",
    "line = Lines(x=x_data,\n",
    "             y=y_data,\n",
    "             scales={'x': x_sc, 'y': y_sc},\n",
    "             colors=['red', 'yellow'])\n",
    "\n",
    "fig = Figure(axes=[ax_x, ax_y], marks=[line])\n",
    "\n",
    "display(fig)"
   ]
  },
  {
   "cell_type": "code",
   "execution_count": 19,
   "metadata": {},
   "outputs": [
    {
     "data": {
      "application/vnd.jupyter.widget-view+json": {
       "model_id": "e2d527c8af794ff09e8079e1294c7b72",
       "version_major": 2,
       "version_minor": 0
      },
      "text/plain": [
       "VBox(children=(Figure(axes=[Axis(scale=LinearScale()), Axis(orientation='vertical', scale=LinearScale())], fig…"
      ]
     },
     "metadata": {},
     "output_type": "display_data"
    }
   ],
   "source": [
    "import numpy as np\n",
    "\n",
    "from bqplot import pyplot as plt\n",
    "size = 100\n",
    "# np.random.seed(0)\n",
    "x_data = np.arange(size)\n",
    "y_data = np.cumsum(np.random.randn(size)  * 100.0)\n",
    "\n",
    "plt.figure(title='My First Plot')\n",
    "plt.plot(x_data, y_data)\n",
    "plt.show()\n"
   ]
  },
  {
   "cell_type": "code",
   "execution_count": 20,
   "metadata": {},
   "outputs": [
    {
     "data": {
      "application/vnd.jupyter.widget-view+json": {
       "model_id": "a58bfa81016341b79515465308da1984",
       "version_major": 2,
       "version_minor": 0
      },
      "text/plain": [
       "VBox(children=(Figure(axes=[Axis(scale=LinearScale()), Axis(orientation='vertical', scale=LinearScale())], fig…"
      ]
     },
     "metadata": {},
     "output_type": "display_data"
    }
   ],
   "source": [
    "plt.figure(title='My Second Chart')\n",
    "scatter_plot = plt.scatter(x_data, y_data)\n",
    "plt.show()"
   ]
  },
  {
   "cell_type": "code",
   "execution_count": 21,
   "metadata": {},
   "outputs": [],
   "source": [
    "scatter_plot.y = np.cumsum(np.random.randn(size)  * 100.0)\n",
    "scatter_plot.colors = ['Red']\n",
    "# scatter_plot.marker = 'diamond'"
   ]
  },
  {
   "cell_type": "code",
   "execution_count": 22,
   "metadata": {},
   "outputs": [],
   "source": [
    "def foo(change):\n",
    "    print('This is a trait change. Foo was called by the fact that we moved the Scatter')\n",
    "    print('In fact, the Scatter plot sent us all the new data: ')\n",
    "    print('To access the data, try modifying the function and printing the data variable')"
   ]
  },
  {
   "cell_type": "code",
   "execution_count": 23,
   "metadata": {},
   "outputs": [],
   "source": [
    "scatter_plot.observe(foo, 'y')\n",
    "scatter_plot.enable_move = True"
   ]
  },
  {
   "cell_type": "code",
   "execution_count": null,
   "metadata": {},
   "outputs": [],
   "source": []
  },
  {
   "cell_type": "code",
   "execution_count": null,
   "metadata": {},
   "outputs": [],
   "source": []
  },
  {
   "cell_type": "code",
   "execution_count": 24,
   "metadata": {},
   "outputs": [
    {
     "data": {
      "application/vnd.jupyter.widget-view+json": {
       "model_id": "6eddb8ae1d2b4d3389676d11903edb41",
       "version_major": 2,
       "version_minor": 0
      },
      "text/plain": [
       "Figure(animation_duration=1500, axes=[Axis(label='x', scale=LinearScale()), Axis(label='y', orientation='verti…"
      ]
     },
     "metadata": {},
     "output_type": "display_data"
    }
   ],
   "source": [
    "import numpy as np\n",
    "import bqplot.pyplot as plt\n",
    "from bqplot import *\n",
    "\n",
    "# ======================= Line Animations ===============================\n",
    "axes_options = {'x': {'label': 'x'}, 'y': {'label': 'y'}}\n",
    "\n",
    "x = np.arange(100)\n",
    "z = np.random.randn(2, 100)\n",
    "y = np.cumsum(z, axis=1) #two random walks\n",
    "\n",
    "fig = plt.figure(animation_duration=1500)\n",
    "lines = plt.plot(x=x,y=y, colors=['red', 'green'], axes_options=axes_options)\n",
    "\n",
    "fig\n"
   ]
  },
  {
   "cell_type": "code",
   "execution_count": 25,
   "metadata": {},
   "outputs": [],
   "source": [
    "# 以下代码每次运行均会更新线条\n",
    "# update data of the line mark\n",
    "import time\n",
    "for _ in range(10):\n",
    "    lines.y = np.cumsum(np.random.randn(2, 100), axis=1)\n",
    "    time.sleep(1.5)\n"
   ]
  },
  {
   "cell_type": "code",
   "execution_count": 26,
   "metadata": {},
   "outputs": [
    {
     "name": "stdout",
     "output_type": "stream",
     "text": [
      "[[0 1 2]\n",
      " [3 4 5]\n",
      " [6 7 8]]\n",
      "[[6 7 8]\n",
      " [0 1 2]\n",
      " [3 4 5]]\n"
     ]
    }
   ],
   "source": [
    "arr = np.arange(9).reshape((3, 3))\n",
    "print(arr)\n",
    "np.random.shuffle(arr)\n",
    "print(arr)"
   ]
  },
  {
   "cell_type": "code",
   "execution_count": null,
   "metadata": {},
   "outputs": [],
   "source": []
  }
 ],
 "metadata": {
  "kernelspec": {
   "display_name": "Python [conda env:mxnet]",
   "language": "python",
   "name": "conda-env-mxnet-py"
  },
  "language_info": {
   "codemirror_mode": {
    "name": "ipython",
    "version": 3
   },
   "file_extension": ".py",
   "mimetype": "text/x-python",
   "name": "python",
   "nbconvert_exporter": "python",
   "pygments_lexer": "ipython3",
   "version": "3.6.9"
  },
  "latex_envs": {
   "LaTeX_envs_menu_present": true,
   "autoclose": false,
   "autocomplete": true,
   "bibliofile": "biblio.bib",
   "cite_by": "apalike",
   "current_citInitial": 1,
   "eqLabelWithNumbers": true,
   "eqNumInitial": 1,
   "hotkeys": {
    "equation": "Ctrl-E",
    "itemize": "Ctrl-I"
   },
   "labels_anchors": false,
   "latex_user_defs": false,
   "report_style_numbering": false,
   "user_envs_cfg": false
  },
  "nbTranslate": {
   "displayLangs": [
    "*"
   ],
   "hotkey": "alt-t",
   "langInMainMenu": true,
   "sourceLang": "en",
   "targetLang": "fr",
   "useGoogleTranslate": true
  },
  "toc": {
   "base_numbering": 1,
   "nav_menu": {},
   "number_sections": true,
   "sideBar": true,
   "skip_h1_title": false,
   "title_cell": "Table of Contents",
   "title_sidebar": "Contents",
   "toc_cell": false,
   "toc_position": {},
   "toc_section_display": true,
   "toc_window_display": false
  },
  "varInspector": {
   "cols": {
    "lenName": 16,
    "lenType": 16,
    "lenVar": 40
   },
   "kernels_config": {
    "python": {
     "delete_cmd_postfix": "",
     "delete_cmd_prefix": "del ",
     "library": "var_list.py",
     "varRefreshCmd": "print(var_dic_list())"
    },
    "r": {
     "delete_cmd_postfix": ") ",
     "delete_cmd_prefix": "rm(",
     "library": "var_list.r",
     "varRefreshCmd": "cat(var_dic_list()) "
    }
   },
   "types_to_exclude": [
    "module",
    "function",
    "builtin_function_or_method",
    "instance",
    "_Feature"
   ],
   "window_display": false
  }
 },
 "nbformat": 4,
 "nbformat_minor": 4
}
