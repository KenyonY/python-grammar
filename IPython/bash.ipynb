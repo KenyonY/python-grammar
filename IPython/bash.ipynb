{
 "cells": [
  {
   "cell_type": "code",
   "execution_count": 7,
   "metadata": {},
   "outputs": [
    {
     "name": "stdout",
     "output_type": "stream",
     "text": [
      "IPython.display.ipynb\n",
      "bash.ipynb\n",
      "test\n",
      "IPython.display.ipynb\n",
      "bash.ipynb\n"
     ]
    }
   ],
   "source": [
    "%%bash\n",
    "mkdir test/\n",
    "ls\n",
    "rm -rf test\n",
    "ls"
   ]
  },
  {
   "cell_type": "code",
   "execution_count": 11,
   "metadata": {},
   "outputs": [],
   "source": [
    "%%bash\n",
    "mkdir -p a/b/c"
   ]
  },
  {
   "cell_type": "code",
   "execution_count": 12,
   "metadata": {},
   "outputs": [],
   "source": [
    "import shutil\n",
    "shutil.rmtree('a')"
   ]
  },
  {
   "cell_type": "code",
   "execution_count": null,
   "metadata": {},
   "outputs": [],
   "source": [
    "!pip uninstall guang"
   ]
  },
  {
   "cell_type": "code",
   "execution_count": 2,
   "metadata": {},
   "outputs": [],
   "source": [
    "import subprocess"
   ]
  },
  {
   "cell_type": "code",
   "execution_count": 4,
   "metadata": {},
   "outputs": [
    {
     "name": "stdout",
     "output_type": "stream",
     "text": [
      "Looking in indexes: https://pypi.tuna.tsinghua.edu.cn/simple\n",
      "Requirement already satisfied: guang in d:\\miniconda\\envs\\mxnet\\lib\\site-packages (0.0.7.2)\n"
     ]
    }
   ],
   "source": [
    "print(subprocess.getoutput('pip install guang'))"
   ]
  },
  {
   "cell_type": "code",
   "execution_count": 6,
   "metadata": {},
   "outputs": [
    {
     "name": "stdout",
     "output_type": "stream",
     "text": [
      "Uninstalling guang-0.0.7.2:\n",
      "  Would remove:\n",
      "    d:\\miniconda\\envs\\mxnet\\lib\\site-packages\\guang-0.0.7.2.dist-info\\*\n",
      "    d:\\miniconda\\envs\\mxnet\\lib\\site-packages\\guang\\*\n",
      "Proceed (y/n)? ERROR: Exception:\n",
      "Traceback (most recent call last):\n",
      "  File \"D:\\miniconda\\envs\\mxnet\\lib\\site-packages\\pip\\_internal\\cli\\base_command.py\", line 188, in main\n",
      "    status = self.run(options, args)\n",
      "  File \"D:\\miniconda\\envs\\mxnet\\lib\\site-packages\\pip\\_internal\\commands\\uninstall.py\", line 75, in run\n",
      "    auto_confirm=options.yes, verbose=self.verbosity > 0,\n",
      "  File \"D:\\miniconda\\envs\\mxnet\\lib\\site-packages\\pip\\_internal\\req\\req_install.py\", line 831, in uninstall\n",
      "    uninstalled_pathset.remove(auto_confirm, verbose)\n",
      "  File \"D:\\miniconda\\envs\\mxnet\\lib\\site-packages\\pip\\_internal\\req\\req_uninstall.py\", line 382, in remove\n",
      "    if auto_confirm or self._allowed_to_proceed(verbose):\n",
      "  File \"D:\\miniconda\\envs\\mxnet\\lib\\site-packages\\pip\\_internal\\req\\req_uninstall.py\", line 425, in _allowed_to_proceed\n",
      "    return ask('Proceed (y/n)? ', ('y', 'n')) == 'y'\n",
      "  File \"D:\\miniconda\\envs\\mxnet\\lib\\site-packages\\pip\\_internal\\utils\\misc.py\", line 266, in ask\n",
      "    response = input(message)\n",
      "EOFError: EOF when reading a line\n"
     ]
    }
   ],
   "source": [
    "print(subprocess.getoutput('pip uninstall guang'))\n"
   ]
  },
  {
   "cell_type": "code",
   "execution_count": null,
   "metadata": {},
   "outputs": [],
   "source": [
    "c1 = subprocess.Popen('pip uninstall guang',shell=True, stdout=subprocess.PIPE)\n",
    "print(c1.stdout.read())\n",
    "c1.wait()\n",
    "c2 = subprocess.Popen(['y'],shell=True,stdin=c1.stdout, stdout=subprocess.PIPE)\n",
    "c2.stdout.read()"
   ]
  },
  {
   "cell_type": "code",
   "execution_count": 53,
   "metadata": {},
   "outputs": [
    {
     "name": "stdin",
     "output_type": "stream",
     "text": [
      "Once deleted, variables cannot be recovered. Proceed (y/[n])?  y\n"
     ]
    }
   ],
   "source": [
    "%reset"
   ]
  },
  {
   "cell_type": "code",
   "execution_count": null,
   "metadata": {},
   "outputs": [],
   "source": [
    "!pip uninstall guang"
   ]
  },
  {
   "cell_type": "code",
   "execution_count": 1,
   "metadata": {},
   "outputs": [],
   "source": [
    "import guang\n",
    "import subprocess"
   ]
  },
  {
   "cell_type": "code",
   "execution_count": 11,
   "metadata": {},
   "outputs": [
    {
     "data": {
      "text/plain": [
       "(b'', None)"
      ]
     },
     "execution_count": 11,
     "metadata": {},
     "output_type": "execute_result"
    }
   ],
   "source": [
    "child1 = subprocess.Popen(['pip','install','guang'], shell=True, stdout=subprocess.PIPE)\n",
    "# child1.wait()\n",
    "child2 = subprocess.Popen([\"yes\"],shell=True,stdout=subprocess.PIPE)\n",
    "\n",
    "out = child2.communicate()\n",
    "out"
   ]
  },
  {
   "cell_type": "code",
   "execution_count": 13,
   "metadata": {},
   "outputs": [
    {
     "data": {
      "text/plain": [
       "(b'', None)"
      ]
     },
     "execution_count": 13,
     "metadata": {},
     "output_type": "execute_result"
    }
   ],
   "source": [
    "child2 = subprocess.Popen('ls',shell=True,stdout=subprocess.PIPE)\n",
    "out = child2.communicate()\n",
    "out"
   ]
  },
  {
   "cell_type": "code",
   "execution_count": 13,
   "metadata": {},
   "outputs": [
    {
     "name": "stdout",
     "output_type": "stream",
     "text": [
      "(b'Uninstalling guang-0.0.7.2:\\r\\n  Would remove:\\r\\n    d:\\\\miniconda\\\\envs\\\\tf2\\\\lib\\\\site-packages\\\\guang-0.0.7.2.dist-info\\\\*\\r\\n    d:\\\\miniconda\\\\envs\\\\tf2\\\\lib\\\\site-packages\\\\guang\\\\*\\r\\nProceed (y/n)? ', b'ERROR: Exception:\\r\\nTraceback (most recent call last):\\r\\n  File \"D:\\\\miniconda\\\\envs\\\\tf2\\\\lib\\\\site-packages\\\\pip\\\\_internal\\\\cli\\\\base_command.py\", line 153, in _main\\r\\n    status = self.run(options, args)\\r\\n  File \"D:\\\\miniconda\\\\envs\\\\tf2\\\\lib\\\\site-packages\\\\pip\\\\_internal\\\\commands\\\\uninstall.py\", line 79, in run\\r\\n    auto_confirm=options.yes, verbose=self.verbosity > 0,\\r\\n  File \"D:\\\\miniconda\\\\envs\\\\tf2\\\\lib\\\\site-packages\\\\pip\\\\_internal\\\\req\\\\req_install.py\", line 755, in uninstall\\r\\n    uninstalled_pathset.remove(auto_confirm, verbose)\\r\\n  File \"D:\\\\miniconda\\\\envs\\\\tf2\\\\lib\\\\site-packages\\\\pip\\\\_internal\\\\req\\\\req_uninstall.py\", line 388, in remove\\r\\n    if auto_confirm or self._allowed_to_proceed(verbose):\\r\\n  File \"D:\\\\miniconda\\\\envs\\\\tf2\\\\lib\\\\site-packages\\\\pip\\\\_internal\\\\req\\\\req_uninstall.py\", line 431, in _allowed_to_proceed\\r\\n    return ask(\\'Proceed (y/n)? \\', (\\'y\\', \\'n\\')) == \\'y\\'\\r\\n  File \"D:\\\\miniconda\\\\envs\\\\tf2\\\\lib\\\\site-packages\\\\pip\\\\_internal\\\\utils\\\\misc.py\", line 245, in ask\\r\\n    response = input(message)\\r\\nEOFError: EOF when reading a line\\r\\n')\n"
     ]
    }
   ],
   "source": [
    "process = subprocess.Popen('pip uninstall guang', shell=True, stdin=subprocess.PIPE, stdout=subprocess.PIPE, stderr=subprocess.PIPE)\n",
    "print(process.communicate())"
   ]
  },
  {
   "cell_type": "code",
   "execution_count": null,
   "metadata": {},
   "outputs": [],
   "source": []
  }
 ],
 "metadata": {
  "kernelspec": {
   "display_name": "Python [conda env:tf2]",
   "language": "python",
   "name": "conda-env-tf2-py"
  },
  "language_info": {
   "codemirror_mode": {
    "name": "ipython",
    "version": 3
   },
   "file_extension": ".py",
   "mimetype": "text/x-python",
   "name": "python",
   "nbconvert_exporter": "python",
   "pygments_lexer": "ipython3",
   "version": "3.7.4"
  }
 },
 "nbformat": 4,
 "nbformat_minor": 4
}
