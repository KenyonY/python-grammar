{
 "cells": [
  {
   "cell_type": "code",
   "execution_count": 134,
   "metadata": {},
   "outputs": [],
   "source": [
    "from IPython.display import Audio, display_latex, display_markdown, display_pdf, display_png, display_pretty,display_svg, display_html"
   ]
  },
  {
   "cell_type": "code",
   "execution_count": 136,
   "metadata": {},
   "outputs": [
    {
     "data": {
      "text/plain": [
       "'\\n**Param**\\n> a: float  \\n  b: float  \\n\\n**return**  \\n>$ a^2 + b^2 $     \\n    '"
      ]
     },
     "execution_count": 136,
     "metadata": {},
     "output_type": "execute_result"
    }
   ],
   "source": [
    "def f(a, b):\n",
    "    \"\"\"\n",
    "**Param**\n",
    "> a: float  \n",
    "  b: float  \n",
    "\n",
    "**return**  \n",
    ">$ a^2 + b^2 $     \n",
    "    \"\"\"\n",
    "    return a^2 + b^2\n",
    "\n",
    "f.__doc__"
   ]
  },
  {
   "cell_type": "code",
   "execution_count": 131,
   "metadata": {},
   "outputs": [
    {
     "data": {
      "text/markdown": [
       "\n",
       "**Param**\n",
       "> a: float  \n",
       "  b: float  \n",
       "\n",
       "**return**  \n",
       ">$ a^2 + b^2 $     \n",
       "    "
      ]
     },
     "metadata": {},
     "output_type": "display_data"
    }
   ],
   "source": [
    "display_markdown(f.__doc__, raw=True) # 如果变量是markdown原始数据类型，则raw=True, 如果是markdown实例类型则raw=False"
   ]
  },
  {
   "cell_type": "code",
   "execution_count": 132,
   "metadata": {},
   "outputs": [
    {
     "data": {
      "text/latex": [
       "\n",
       "**Param**\n",
       "> a: float  \n",
       "  b: float  \n",
       "\n",
       "**return**  \n",
       ">$ a^2 + b^2 $     \n",
       "    "
      ]
     },
     "metadata": {},
     "output_type": "display_data"
    }
   ],
   "source": [
    "display_latex(f.__doc__, raw=True)"
   ]
  },
  {
   "cell_type": "code",
   "execution_count": 135,
   "metadata": {},
   "outputs": [
    {
     "data": {
      "text/html": [
       "\n",
       "**Param**\n",
       "> a: float  \n",
       "  b: float  \n",
       "\n",
       "**return**  \n",
       ">$ a^2 + b^2 $     \n",
       "    "
      ]
     },
     "metadata": {},
     "output_type": "display_data"
    }
   ],
   "source": [
    "display_html(f.__doc__, raw=True)"
   ]
  },
  {
   "cell_type": "code",
   "execution_count": null,
   "metadata": {},
   "outputs": [],
   "source": []
  }
 ],
 "metadata": {
  "kernelspec": {
   "display_name": "Python [conda env:tf1]",
   "language": "python",
   "name": "conda-env-tf1-py"
  },
  "language_info": {
   "codemirror_mode": {
    "name": "ipython",
    "version": 3
   },
   "file_extension": ".py",
   "mimetype": "text/x-python",
   "name": "python",
   "nbconvert_exporter": "python",
   "pygments_lexer": "ipython3",
   "version": "3.7.4"
  }
 },
 "nbformat": 4,
 "nbformat_minor": 4
}
