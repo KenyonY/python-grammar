{
 "cells": [
  {
   "cell_type": "code",
   "execution_count": 46,
   "metadata": {},
   "outputs": [
    {
     "name": "stdout",
     "output_type": "stream",
     "text": [
      "原列表: [1, 2, [5, 6]]\n",
      "deepcopy: [1, 2, [5, 7]]\n"
     ]
    }
   ],
   "source": [
    "# importing \"copy\" for copy operations \n",
    "import copy \n",
    "\n",
    "# initializing list 1 \n",
    "li = [1, 2, [5,6]] \n",
    "li2 = copy.deepcopy(li) \n",
    "\n",
    "# print(li,'\\n',li1,'\\n',li2)\n",
    "\n",
    "# 深拷贝，不改变原列表：\n",
    "li2[2][1] = 7\n",
    "\n",
    "print('原列表:',li)\n",
    "print('deepcopy:',li2)"
   ]
  },
  {
   "cell_type": "code",
   "execution_count": 47,
   "metadata": {},
   "outputs": [
    {
     "name": "stdout",
     "output_type": "stream",
     "text": [
      "原列表: [1, 2, [5, 6]]\n",
      "复制后列表被重新赋值的原列表: [0, 2, [5, 0]]\n",
      "浅复制列表： [1, 2, [5, 0]]\n"
     ]
    }
   ],
   "source": [
    "# 浅拷贝，会改变原列表,当列表第0维的元素不会改变，所以才称为潜复制：\n",
    "print('原列表:',li)\n",
    "li1 = copy.copy(li) # copy.copy()似乎 就是 =,即 li1 = li\n",
    "\n",
    "li1[2][1] = 0\n",
    "li[0] = 0\n",
    "print('复制后列表被重新赋值的原列表:',li)\n",
    "print('浅复制列表：',li1)"
   ]
  },
  {
   "cell_type": "markdown",
   "metadata": {},
   "source": [
    "**总结**  \n",
    "`copy.deepcopy`是完全复制了原来的矩阵，复制后变量不会影响原矩阵  \n",
    "`copy.copy`只复制了原矩阵的第0维，其它维数据仍与原数据等价"
   ]
  },
  {
   "cell_type": "code",
   "execution_count": null,
   "metadata": {},
   "outputs": [
    {
     "data": {
      "text/plain": [
       "[1, [1, 0], [3, 4]]"
      ]
     },
     "execution_count": 8,
     "metadata": {},
     "output_type": "execute_result"
    },
    {
     "data": {
      "text/plain": [
       "[1, [1, 2], [3, 4]]"
      ]
     },
     "execution_count": 8,
     "metadata": {},
     "output_type": "execute_result"
    }
   ],
   "source": [
    "import copy\n",
    "a = [1,[1,2],[3,4]]\n",
    "b = copy.deepcopy(a)\n",
    "a[1][1]=0\n",
    "a\n",
    "b"
   ]
  },
  {
   "cell_type": "code",
   "execution_count": null,
   "metadata": {},
   "outputs": [],
   "source": []
  }
 ],
 "metadata": {
  "kernelspec": {
   "display_name": "Python 3",
   "language": "python",
   "name": "python3"
  },
  "language_info": {
   "codemirror_mode": {
    "name": "ipython",
    "version": 3
   },
   "file_extension": ".py",
   "mimetype": "text/x-python",
   "name": "python",
   "nbconvert_exporter": "python",
   "pygments_lexer": "ipython3",
   "version": "3.7.3"
  },
  "latex_envs": {
   "LaTeX_envs_menu_present": true,
   "autoclose": false,
   "autocomplete": true,
   "bibliofile": "biblio.bib",
   "cite_by": "apalike",
   "current_citInitial": 1,
   "eqLabelWithNumbers": true,
   "eqNumInitial": 1,
   "hotkeys": {
    "equation": "Ctrl-E",
    "itemize": "Ctrl-I"
   },
   "labels_anchors": false,
   "latex_user_defs": false,
   "report_style_numbering": false,
   "user_envs_cfg": false
  },
  "toc": {
   "base_numbering": 1,
   "nav_menu": {},
   "number_sections": true,
   "sideBar": true,
   "skip_h1_title": false,
   "title_cell": "Table of Contents",
   "title_sidebar": "Contents",
   "toc_cell": false,
   "toc_position": {},
   "toc_section_display": true,
   "toc_window_display": false
  },
  "varInspector": {
   "cols": {
    "lenName": 16,
    "lenType": 16,
    "lenVar": 40
   },
   "kernels_config": {
    "python": {
     "delete_cmd_postfix": "",
     "delete_cmd_prefix": "del ",
     "library": "var_list.py",
     "varRefreshCmd": "print(var_dic_list())"
    },
    "r": {
     "delete_cmd_postfix": ") ",
     "delete_cmd_prefix": "rm(",
     "library": "var_list.r",
     "varRefreshCmd": "cat(var_dic_list()) "
    }
   },
   "types_to_exclude": [
    "module",
    "function",
    "builtin_function_or_method",
    "instance",
    "_Feature"
   ],
   "window_display": false
  }
 },
 "nbformat": 4,
 "nbformat_minor": 4
}
