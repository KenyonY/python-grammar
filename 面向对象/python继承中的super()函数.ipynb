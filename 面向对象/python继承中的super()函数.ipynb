{
 "cells": [
  {
   "cell_type": "markdown",
   "metadata": {},
   "source": [
    " 它解决了子类调用父类方法的一些问题， 父类多次被调用时只执行一次， 优化了执行逻辑，"
   ]
  },
  {
   "cell_type": "code",
   "execution_count": 8,
   "metadata": {},
   "outputs": [
    {
     "name": "stdout",
     "output_type": "stream",
     "text": [
      "I'm father\n"
     ]
    }
   ],
   "source": [
    "# 一个调用父类的可行代码:\n",
    "class Father():\n",
    "    def say(self):\n",
    "        print(\"I'm father\")\n",
    "        \n",
    "class Child(Father):\n",
    "    def say(self):\n",
    "        Father.say(self)\n",
    "\n",
    "Child().say()"
   ]
  },
  {
   "cell_type": "markdown",
   "metadata": {},
   "source": [
    "这样做有一些缺点，比如说如果修改了父类名称，那么在子类中会涉及多处修改，另外，Python是允许多继承的语言，如上所示的方法在多继承时就需要重复写多次，显得累赘。为了解决这些问题，Python引入了super()机制，例子代码如下"
   ]
  },
  {
   "cell_type": "code",
   "execution_count": 6,
   "metadata": {},
   "outputs": [
    {
     "name": "stdout",
     "output_type": "stream",
     "text": [
      "I'm father\n"
     ]
    }
   ],
   "source": [
    "class Father():\n",
    "    def say(self):\n",
    "        print(\"I'm father\")\n",
    "        \n",
    "class Child(Father):\n",
    "    def say(self):\n",
    "        super().say() # 这里say()里面没有self\n",
    "\n",
    "Child().say()"
   ]
  },
  {
   "cell_type": "markdown",
   "metadata": {},
   "source": [
    "表面上看 super(Child, self).say(message)方法和Parent.say(self, message)方法的结果是一致的，  \n",
    "实际上这两种方法的内部处理机制大大不同，当涉及多继承情况时，就会表现出明显的差异来，直接给例子："
   ]
  },
  {
   "cell_type": "code",
   "execution_count": 9,
   "metadata": {},
   "outputs": [
    {
     "name": "stdout",
     "output_type": "stream",
     "text": [
      "Enter E\n",
      "Enter B\n",
      "Enter A\n",
      "Leave A\n",
      "Leave B\n",
      "Enter C\n",
      "Enter A\n",
      "Leave A\n",
      "Leave C\n",
      "Enter D\n",
      "Enter A\n",
      "Leave A\n",
      "Leave D\n",
      "Leave E\n"
     ]
    },
    {
     "data": {
      "text/plain": [
       "<__main__.E at 0x23265ac6ef0>"
      ]
     },
     "execution_count": 9,
     "metadata": {},
     "output_type": "execute_result"
    }
   ],
   "source": [
    "class A:\n",
    "    def __init__(self):\n",
    "        print(\"Enter A\")\n",
    "        print(\"Leave A\")\n",
    "class B(A):\n",
    "  def __init__(self):\n",
    "    print(\"Enter B\")\n",
    "    A.__init__(self)\n",
    "    print(\"Leave B\")\n",
    "class C(A):\n",
    "  def __init__(self):\n",
    "    print(\"Enter C\")\n",
    "    A.__init__(self)\n",
    "    print(\"Leave C\")\n",
    "class D(A):\n",
    "  def __init__(self):\n",
    "    print(\"Enter D\")\n",
    "    A.__init__(self)\n",
    "    print(\"Leave D\")\n",
    "class E(B, C, D):\n",
    "  def __init__(self):\n",
    "    print(\"Enter E\")\n",
    "    B.__init__(self)\n",
    "    C.__init__(self)\n",
    "    D.__init__(self)\n",
    "    print(\"Leave E\")\n",
    "E()"
   ]
  },
  {
   "cell_type": "markdown",
   "metadata": {},
   "source": [
    "执行顺序很好理解，唯一需要注意的是公共父类A被执行了多次。"
   ]
  },
  {
   "cell_type": "code",
   "execution_count": 11,
   "metadata": {
    "scrolled": true
   },
   "outputs": [
    {
     "name": "stdout",
     "output_type": "stream",
     "text": [
      "Enter E\n",
      "Enter B\n",
      "Enter C\n",
      "Enter D\n",
      "Enter A\n",
      "Leave A\n",
      "Leave D\n",
      "Leave C\n",
      "Leave B\n",
      "Leave E\n"
     ]
    },
    {
     "data": {
      "text/plain": [
       "<__main__.E at 0x23265adea90>"
      ]
     },
     "execution_count": 11,
     "metadata": {},
     "output_type": "execute_result"
    }
   ],
   "source": [
    "class A:\n",
    "  def __init__(self):\n",
    "    print(\"Enter A\")\n",
    "    print(\"Leave A\")\n",
    "class B(A):\n",
    "  def __init__(self):\n",
    "    print(\"Enter B\")\n",
    "    super().__init__() # 等价于 super(B, self).__init__()\n",
    "    print(\"Leave B\")\n",
    "class C(A):\n",
    "  def __init__(self):\n",
    "    print(\"Enter C\")\n",
    "    super().__init__() \n",
    "    print(\"Leave C\")\n",
    "class D(A):\n",
    "  def __init__(self):\n",
    "    print(\"Enter D\")\n",
    "    super().__init__() \n",
    "    print(\"Leave D\")\n",
    "class E(B, C, D):\n",
    "  def __init__(self):\n",
    "    print(\"Enter E\")\n",
    "    super().__init__() # 等价于super(E, self).__init__()\n",
    "    print(\"Leave E\")\n",
    "    \n",
    "E()"
   ]
  },
  {
   "cell_type": "markdown",
   "metadata": {},
   "source": [
    "在super机制里可以保证公共父类仅被执行一次，至于执行的顺序，是按照MRO（Method Resolution Order）：方法解析顺序 进行的。"
   ]
  },
  {
   "cell_type": "code",
   "execution_count": null,
   "metadata": {},
   "outputs": [],
   "source": []
  },
  {
   "cell_type": "code",
   "execution_count": null,
   "metadata": {},
   "outputs": [],
   "source": []
  }
 ],
 "metadata": {
  "kernelspec": {
   "display_name": "Python 3",
   "language": "python",
   "name": "python3"
  },
  "language_info": {
   "codemirror_mode": {
    "name": "ipython",
    "version": 3
   },
   "file_extension": ".py",
   "mimetype": "text/x-python",
   "name": "python",
   "nbconvert_exporter": "python",
   "pygments_lexer": "ipython3",
   "version": "3.6.8"
  },
  "latex_envs": {
   "LaTeX_envs_menu_present": true,
   "autoclose": false,
   "autocomplete": true,
   "bibliofile": "biblio.bib",
   "cite_by": "apalike",
   "current_citInitial": 1,
   "eqLabelWithNumbers": true,
   "eqNumInitial": 1,
   "hotkeys": {
    "equation": "Ctrl-E",
    "itemize": "Ctrl-I"
   },
   "labels_anchors": false,
   "latex_user_defs": false,
   "report_style_numbering": false,
   "user_envs_cfg": false
  },
  "toc": {
   "base_numbering": 1,
   "nav_menu": {},
   "number_sections": true,
   "sideBar": true,
   "skip_h1_title": false,
   "title_cell": "Table of Contents",
   "title_sidebar": "Contents",
   "toc_cell": false,
   "toc_position": {},
   "toc_section_display": true,
   "toc_window_display": false
  },
  "varInspector": {
   "cols": {
    "lenName": 16,
    "lenType": 16,
    "lenVar": 40
   },
   "kernels_config": {
    "python": {
     "delete_cmd_postfix": "",
     "delete_cmd_prefix": "del ",
     "library": "var_list.py",
     "varRefreshCmd": "print(var_dic_list())"
    },
    "r": {
     "delete_cmd_postfix": ") ",
     "delete_cmd_prefix": "rm(",
     "library": "var_list.r",
     "varRefreshCmd": "cat(var_dic_list()) "
    }
   },
   "types_to_exclude": [
    "module",
    "function",
    "builtin_function_or_method",
    "instance",
    "_Feature"
   ],
   "window_display": false
  }
 },
 "nbformat": 4,
 "nbformat_minor": 2
}
