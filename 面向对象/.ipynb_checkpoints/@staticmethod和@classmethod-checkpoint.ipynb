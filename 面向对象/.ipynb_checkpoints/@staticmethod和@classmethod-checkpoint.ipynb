{
 "cells": [
  {
   "cell_type": "markdown",
   "metadata": {},
   "source": [
    "## 概述\n",
    "一般来说，要使用某个类的方法，需要先实例化一个对象再调用方法。  \n",
    "而使用@staticmethod或@classmethod，就可以不需要实例化，直接类名.方法名()来调用。  \n",
    "这有利于组织代码，把某些应该属于某个类的函数给放到那个类里去，同时有利于命名空间的整洁\n",
    "\n",
    "实例方法\n",
    "\n",
    "    定义：第一个参数必须是实例对象，该参数名一般约定为“self”，通过它来传递实例的属性和方法（也可以传类的属性和方法）；\n",
    "    调用：只能由实例对象调用。\n",
    "\n",
    "类方法\n",
    "\n",
    "    定义：使用装饰器@classmethod。第一个参数必须是当前类对象，该参数名一般约定为“cls”，通过它来传递类的属性和方法（不能传实例的属性和方法）；\n",
    "    调用：实例对象和类对象都可以调用。\n",
    "    \n",
    "    原则上，类方法是将类本身作为对象进行操作的方法。假设有个方法，且这个方法在逻辑上采用类本身作为对象来调用更合理，那么这个方法就可以定义为类方法。另外，如果需要继承，也可以定义为类方法。\n",
    "\n",
    "静态方法\n",
    "\n",
    "    定义：使用装饰器@staticmethod。参数随意，没有“self”和“cls”参数，但是方法体中不能使用类或实例的任何属性和方法；\n",
    "    调用：实例对象和类对象都可以调用。\n",
    "    \n",
    "    静态方法是类中的函数，不需要实例。静态方法主要是用来存放逻辑性的代码，逻辑上属于类，但是和类本身没有关系，也就是说在静态方法中，不会涉及到类中的属性和方法的操作。可以理解为，静态方法是个独立的、单纯的函数，它仅仅托管于某个类的名称空间中，便于使用和维护。\n"
   ]
  },
  {
   "cell_type": "markdown",
   "metadata": {},
   "source": [
    "### 类方法  \n",
    "使用装饰器@classmethod。\n",
    "\n",
    "如下场景：\n",
    "\n",
    "假设我有一个学生类和一个班级类，想要实现的功能为：\n",
    "    执行班级人数增加的操作、获得班级的总人数；\n",
    "    学生类继承自班级类，每实例化一个学生，班级人数都能增加；\n",
    "    最后，我想定义一些学生，获得班级中的总人数。\n",
    "\n",
    "思考：这个问题用类方法做比较合适，为什么？因为我实例化的是学生，但是如果我从学生这一个实例中获得班级总人数，在逻辑上显然是不合理的。同时，如果想要获得班级总人数，如果生成一个班级的实例也是没有必要的。"
   ]
  },
  {
   "cell_type": "code",
   "execution_count": 9,
   "metadata": {},
   "outputs": [
    {
     "name": "stdout",
     "output_type": "stream",
     "text": [
      "2\n",
      "张三\n"
     ]
    },
    {
     "data": {
      "text/plain": [
       "'小二'"
      ]
     },
     "execution_count": 9,
     "metadata": {},
     "output_type": "execute_result"
    }
   ],
   "source": [
    "class ClassTest(object):\n",
    "    __num = 0\n",
    "    def __init__(self, name):\n",
    "        self.name = name\n",
    "    \n",
    "    @classmethod\n",
    "    def addNum(cls):\n",
    "        cls.__num += 1\n",
    "\n",
    "    @classmethod\n",
    "    def getNum(cls):\n",
    "        return cls.__num\n",
    "\n",
    "    # 这里我用到魔术方法__new__，主要是为了在创建实例的时候调用累加方法。\n",
    "    def __new__(self, name):\n",
    "        ClassTest.addNum()\n",
    "        return super(ClassTest, self).__new__(self)\n",
    "\n",
    "\n",
    "class Student(ClassTest):\n",
    "    pass\n",
    "\n",
    "a = Student('张三')\n",
    "b = Student('王二')\n",
    "print(a.getNum())\n",
    "print(a.name)\n",
    "\n",
    "c = ClassTest('小二')\n",
    "c.name"
   ]
  },
  {
   "cell_type": "markdown",
   "metadata": {},
   "source": [
    "## 区别"
   ]
  },
  {
   "cell_type": "code",
   "execution_count": 56,
   "metadata": {},
   "outputs": [
    {
     "name": "stdout",
     "output_type": "stream",
     "text": [
      "普通实例化方法\n",
      "5\n",
      "5\n",
      "5\n",
      "类方法\n",
      "5\n",
      "5\n",
      "5\n"
     ]
    }
   ],
   "source": [
    "class Kls(object):\n",
    "    def __init__(self,a):\n",
    "        self.a = a\n",
    "        \n",
    "    \n",
    "    def add(self,x,y): # 实例方法\n",
    "        return x + y\n",
    "    \n",
    "    @staticmethod\n",
    "    def ad(x, y):  # 静态方法\n",
    "        return x + y\n",
    "    \n",
    "    def f(self, x, y):\n",
    "        print( Kls.add(self,x,y) ) # 此处调用实例方法时 第一个Kls不可是self\n",
    "        \n",
    "        print( self.ad(x,y) )# 这里调用静态方法时 self 和 Kls 可以互换\n",
    "        print( Kls.ad(x,y) )\n",
    "        \n",
    "    @classmethod\n",
    "    def g(cls, x, y): # 类方法\n",
    "        print( Kls.add(cls,x,y) ) # 这里Kls 和 cls 何以任意互换\n",
    "        print( cls.add(cls, x,y) )\n",
    "        \n",
    "        print( Kls.ad(x,y) )  # 而此处调用静态方法，只能有这一种方式\n",
    "\n",
    "k = Kls(1)\n",
    "print(\"普通实例化方法\")\n",
    "k.f(2,3)\n",
    "\n",
    "print(\"类方法\")\n",
    "k.g(2,3)"
   ]
  },
  {
   "cell_type": "markdown",
   "metadata": {},
   "source": [
    "从上面，我们可以大致猜到实例方法、类方法和静态方法的区别了：  \n",
    "* 对于实例方法，调用时会把实例 k 作为第一个参数传递给self参数。\n",
    "* 对于类方法，调用时会把类Kls作为第一个参数传递给cls参数，所以在类方法中Kls完全等于cls。  \n",
    "* 对于静态方法，调用时并不需要传递类或者实例。其实，静态方法很像我们在类外定义的函数，只不过静态方法可以通过类或者实例来调用，所以在上面的普通实例方法中调用静态方法时，self和Kls可以互换。静态方法主要提供代码整洁作用。\n"
   ]
  },
  {
   "cell_type": "markdown",
   "metadata": {},
   "source": []
  },
  {
   "cell_type": "code",
   "execution_count": null,
   "metadata": {},
   "outputs": [],
   "source": []
  }
 ],
 "metadata": {
  "kernelspec": {
   "display_name": "Python 3",
   "language": "python",
   "name": "python3"
  },
  "language_info": {
   "codemirror_mode": {
    "name": "ipython",
    "version": 3
   },
   "file_extension": ".py",
   "mimetype": "text/x-python",
   "name": "python",
   "nbconvert_exporter": "python",
   "pygments_lexer": "ipython3",
   "version": "3.6.8"
  },
  "latex_envs": {
   "LaTeX_envs_menu_present": true,
   "autoclose": false,
   "autocomplete": true,
   "bibliofile": "biblio.bib",
   "cite_by": "apalike",
   "current_citInitial": 1,
   "eqLabelWithNumbers": true,
   "eqNumInitial": 1,
   "hotkeys": {
    "equation": "Ctrl-E",
    "itemize": "Ctrl-I"
   },
   "labels_anchors": false,
   "latex_user_defs": false,
   "report_style_numbering": false,
   "user_envs_cfg": false
  },
  "toc": {
   "base_numbering": 1,
   "nav_menu": {},
   "number_sections": true,
   "sideBar": true,
   "skip_h1_title": false,
   "title_cell": "Table of Contents",
   "title_sidebar": "Contents",
   "toc_cell": false,
   "toc_position": {},
   "toc_section_display": true,
   "toc_window_display": false
  },
  "varInspector": {
   "cols": {
    "lenName": 16,
    "lenType": 16,
    "lenVar": 40
   },
   "kernels_config": {
    "python": {
     "delete_cmd_postfix": "",
     "delete_cmd_prefix": "del ",
     "library": "var_list.py",
     "varRefreshCmd": "print(var_dic_list())"
    },
    "r": {
     "delete_cmd_postfix": ") ",
     "delete_cmd_prefix": "rm(",
     "library": "var_list.r",
     "varRefreshCmd": "cat(var_dic_list()) "
    }
   },
   "types_to_exclude": [
    "module",
    "function",
    "builtin_function_or_method",
    "instance",
    "_Feature"
   ],
   "window_display": false
  }
 },
 "nbformat": 4,
 "nbformat_minor": 2
}
