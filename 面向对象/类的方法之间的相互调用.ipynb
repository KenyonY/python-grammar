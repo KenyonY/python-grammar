{
 "cells": [
  {
   "cell_type": "markdown",
   "metadata": {},
   "source": [
    "# 通过下面的二分法求根算法来加深对类方法之间的相互调用的理解。"
   ]
  },
  {
   "cell_type": "markdown",
   "metadata": {},
   "source": [
    "**具体内容**：  \n",
    "* 在类中，如果某个类方法(函数)内的某个变量获取了某个值x，如果它想共享，则需要将这个值赋予 `self.x` 这样在整个类内都可以通过调用self.x来获取从那个函数获得的x的值。  \n",
    "* 如果要在某个方法`f`中，需要调用同一个类中的另一个方法`g`，同样只需要: `self.g`便可在任何地方调用（无论是在函数内部，还是函数的参数中）  \n",
    "* "
   ]
  },
  {
   "cell_type": "code",
   "execution_count": 4,
   "metadata": {},
   "outputs": [
    {
     "name": "stdout",
     "output_type": "stream",
     "text": [
      "Wall time: 0 ns\n"
     ]
    },
    {
     "data": {
      "text/plain": [
       "10.954451150103322"
      ]
     },
     "execution_count": 4,
     "metadata": {},
     "output_type": "execute_result"
    }
   ],
   "source": [
    "class FindRoot():\n",
    "    def __init__(self,method):\n",
    "        self.method = method\n",
    "\n",
    "    def dichotomy(self, f, target, x_left, x_right, error=1e-14):\n",
    "        x_mean = (x_left + x_right)/2\n",
    "        fmean = f(x_mean)\n",
    "        F_mean = fmean - target\n",
    "        F_left = f(x_left) - target\n",
    "        if abs(F_mean) < error:\n",
    "            return x_mean\n",
    "        if F_left * F_mean < 0:\n",
    "            x_right = x_mean\n",
    "            return self.dichotomy(f, target, x_left, x_right)\n",
    "        else:\n",
    "            x_left = x_mean\n",
    "            return self.dichotomy(f, target, x_left, x_right) # 这里在调用自身时，也需要使用 self.自身\n",
    "\n",
    "    def f(self, x):\n",
    "        return x*x\n",
    "\n",
    "    def mySqrt(self, x):\n",
    "        if x < 0:\n",
    "            x = - x\n",
    "        x_left = 0\n",
    "        if x < 1:\n",
    "            x_right = 1\n",
    "        else:\n",
    "            x_right = x\n",
    "        \n",
    "        if self.method =='二分法':\n",
    "            return self.dichotomy(self.f, x, x_left, x_right) # 这里 self.f可以些在函数的参数中\n",
    "        else:\n",
    "            print('目前只有二分法可以调用，抱歉')\n",
    "\n",
    "\n",
    "solution = FindRoot('二分法')\n",
    "%time solution.mySqrt(120)\n"
   ]
  },
  {
   "cell_type": "code",
   "execution_count": 5,
   "metadata": {},
   "outputs": [
    {
     "data": {
      "text/plain": [
       "10"
      ]
     },
     "execution_count": 5,
     "metadata": {},
     "output_type": "execute_result"
    }
   ],
   "source": [
    "def f(n):\n",
    "    if n==1:\n",
    "        return 1\n",
    "    else:\n",
    "        return n+f(n-1)\n",
    "f(4)"
   ]
  },
  {
   "cell_type": "code",
   "execution_count": 1,
   "metadata": {},
   "outputs": [
    {
     "data": {
      "text/plain": [
       "12"
      ]
     },
     "execution_count": 1,
     "metadata": {},
     "output_type": "execute_result"
    }
   ],
   "source": [
    "def f(a):\n",
    "    c = 3*a\n",
    "    def g(b):\n",
    "        return 2*b\n",
    "    return g(c)\n",
    "f(2)"
   ]
  }
 ],
 "metadata": {
  "gist": {
   "data": {
    "description": "散射角相干/Untitled.ipynb",
    "public": false
   },
   "id": ""
  },
  "hide_input": false,
  "kernel_info": {
   "name": "python3"
  },
  "kernelspec": {
   "display_name": "Python 3",
   "language": "python",
   "name": "python3"
  },
  "language_info": {
   "codemirror_mode": {
    "name": "ipython",
    "version": 3
   },
   "file_extension": ".py",
   "mimetype": "text/x-python",
   "name": "python",
   "nbconvert_exporter": "python",
   "pygments_lexer": "ipython3",
   "version": "3.7.3"
  },
  "latex_envs": {
   "LaTeX_envs_menu_present": true,
   "autoclose": false,
   "autocomplete": true,
   "bibliofile": "biblio.bib",
   "cite_by": "apalike",
   "current_citInitial": 1,
   "eqLabelWithNumbers": true,
   "eqNumInitial": 1,
   "hotkeys": {
    "equation": "Ctrl-E",
    "itemize": "Ctrl-I"
   },
   "labels_anchors": false,
   "latex_user_defs": false,
   "report_style_numbering": false,
   "user_envs_cfg": false
  },
  "nbTranslate": {
   "displayLangs": [
    "*"
   ],
   "hotkey": "alt-t",
   "langInMainMenu": true,
   "sourceLang": "en",
   "targetLang": "fr",
   "useGoogleTranslate": true
  },
  "nteract": {
   "version": "0.14.3"
  },
  "toc": {
   "base_numbering": 1,
   "nav_menu": {},
   "number_sections": true,
   "sideBar": true,
   "skip_h1_title": false,
   "title_cell": "Table of Contents",
   "title_sidebar": "Contents",
   "toc_cell": false,
   "toc_position": {},
   "toc_section_display": true,
   "toc_window_display": false
  },
  "varInspector": {
   "cols": {
    "lenName": 16,
    "lenType": 16,
    "lenVar": 40
   },
   "kernels_config": {
    "python": {
     "delete_cmd_postfix": "",
     "delete_cmd_prefix": "del ",
     "library": "var_list.py",
     "varRefreshCmd": "print(var_dic_list())"
    },
    "r": {
     "delete_cmd_postfix": ") ",
     "delete_cmd_prefix": "rm(",
     "library": "var_list.r",
     "varRefreshCmd": "cat(var_dic_list()) "
    }
   },
   "position": {
    "height": "199.4px",
    "left": "1076px",
    "right": "20px",
    "top": "123px",
    "width": "350px"
   },
   "types_to_exclude": [
    "module",
    "function",
    "builtin_function_or_method",
    "instance",
    "_Feature"
   ],
   "window_display": false
  }
 },
 "nbformat": 4,
 "nbformat_minor": 4
}
