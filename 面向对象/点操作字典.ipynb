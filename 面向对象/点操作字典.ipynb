{
 "cells": [
  {
   "cell_type": "code",
   "execution_count": 1,
   "metadata": {},
   "outputs": [],
   "source": [
    "class Dict_enhance(dict):\n",
    "    def __init__(self, *args, **kwargs):\n",
    "        dict.__init__(self, *args, **kwargs)\n",
    "        self.__dict__ = self # self对象是可以.操作的\n",
    "\n",
    "def dict_dotable(dic):\n",
    "    dic = Dict_enhance(dic)\n",
    "    for i in dic:\n",
    "        if type(dic[i]) == dict:\n",
    "            dic[i] = dict_dotable(dic[i])\n",
    "    return dic"
   ]
  },
  {
   "cell_type": "code",
   "execution_count": 4,
   "metadata": {},
   "outputs": [
    {
     "name": "stdout",
     "output_type": "stream",
     "text": [
      "{'a2': {'a2': 'asdf;lkas',\n",
      "        'a3': {'a3': ';asdkjf;', 'b3': 'as;df'},\n",
      "        'b2': 'bas;dlf'},\n",
      " 'aaa': 'asdfjlkjl',\n",
      " 'bbb': 'sldkafj',\n",
      " 'ccc': 'asdfasd'}\n"
     ]
    }
   ],
   "source": [
    "# test\n",
    "dic = {'aaa':'asdfjlkjl', 'bbb':'sldkafj', 'ccc':'asdfasd', \n",
    "       'a2':{'a2':'asdf;lkas','b2':'bas;dlf', \n",
    "        'a3':{'a3':';asdkjf;','b3':'as;df'}\n",
    "       }\n",
    "      }\n",
    "from pprint import pprint\n",
    "pprint(dic)"
   ]
  },
  {
   "cell_type": "code",
   "execution_count": 8,
   "metadata": {},
   "outputs": [
    {
     "data": {
      "text/plain": [
       "{'aaa': 'asdfjlkjl',\n",
       " 'bbb': 'sldkafj',\n",
       " 'ccc': 'asdfasd',\n",
       " 'a2': {'a2': 'asdf;lkas',\n",
       "  'b2': 'bas;dlf',\n",
       "  'a3': {'a3': ';asdkjf;', 'b3': 'as;df'}}}"
      ]
     },
     "execution_count": 8,
     "metadata": {},
     "output_type": "execute_result"
    }
   ],
   "source": [
    "enhance_dic = dict_dotable(dic)\n",
    "enhance_dic"
   ]
  },
  {
   "cell_type": "code",
   "execution_count": 9,
   "metadata": {},
   "outputs": [
    {
     "data": {
      "text/plain": [
       "';asdkjf;'"
      ]
     },
     "execution_count": 9,
     "metadata": {},
     "output_type": "execute_result"
    }
   ],
   "source": [
    "enhance_dic.a2.a3.a3"
   ]
  },
  {
   "cell_type": "code",
   "execution_count": 11,
   "metadata": {},
   "outputs": [
    {
     "data": {
      "text/plain": [
       "';asdkjf;'"
      ]
     },
     "execution_count": 11,
     "metadata": {},
     "output_type": "execute_result"
    }
   ],
   "source": [
    "enhance_dic['a2']['a3']['a3']"
   ]
  },
  {
   "cell_type": "code",
   "execution_count": 12,
   "metadata": {},
   "outputs": [
    {
     "data": {
      "text/plain": [
       "';asdkjf;'"
      ]
     },
     "execution_count": 12,
     "metadata": {},
     "output_type": "execute_result"
    }
   ],
   "source": [
    "dic['a2']['a3']['a3']"
   ]
  }
 ],
 "metadata": {
  "kernelspec": {
   "display_name": "Python [conda env:tf2]",
   "language": "python",
   "name": "conda-env-tf2-py"
  },
  "language_info": {
   "codemirror_mode": {
    "name": "ipython",
    "version": 3
   },
   "file_extension": ".py",
   "mimetype": "text/x-python",
   "name": "python",
   "nbconvert_exporter": "python",
   "pygments_lexer": "ipython3",
   "version": "3.6.8"
  }
 },
 "nbformat": 4,
 "nbformat_minor": 4
}
