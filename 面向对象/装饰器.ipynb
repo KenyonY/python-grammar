{
 "cells": [
  {
   "cell_type": "markdown",
   "metadata": {},
   "source": [
    "# 先看一个简单的粒子："
   ]
  },
  {
   "cell_type": "code",
   "execution_count": 21,
   "metadata": {},
   "outputs": [],
   "source": [
    "def add_10(func):\n",
    "    \n",
    "    print(func() + 10)\n",
    "    \n",
    "def number10():\n",
    "    return 10\n",
    "\n",
    "add_10(number10)"
   ]
  },
  {
   "cell_type": "code",
   "execution_count": 22,
   "metadata": {},
   "outputs": [
    {
     "name": "stdout",
     "output_type": "stream",
     "text": [
      "20\n"
     ]
    }
   ],
   "source": []
  },
  {
   "cell_type": "code",
   "execution_count": 5,
   "metadata": {},
   "outputs": [
    {
     "name": "stdout",
     "output_type": "stream",
     "text": [
      "20\n"
     ]
    }
   ],
   "source": [
    "@add_10\n",
    "def number10():\n",
    "    return 10"
   ]
  },
  {
   "cell_type": "markdown",
   "metadata": {},
   "source": [
    "再来一个例子"
   ]
  },
  {
   "cell_type": "code",
   "execution_count": null,
   "metadata": {},
   "outputs": [],
   "source": [
    "def decorator(func):\n",
    "    def wrapTheFunc():\n",
    "        print('我是装饰器内部的函数，我接下来要对func()进行处理')\n",
    "        func()\n",
    "        print('我已经对这个函数进行了装饰')\n",
    "    return wrapTheFunc\n",
    "def function():\n",
    "    print('我是func，我运行了')"
   ]
  },
  {
   "cell_type": "code",
   "execution_count": 14,
   "metadata": {},
   "outputs": [],
   "source": [
    "function=decorator(function)"
   ]
  },
  {
   "cell_type": "code",
   "execution_count": 16,
   "metadata": {},
   "outputs": [
    {
     "name": "stdout",
     "output_type": "stream",
     "text": [
      "我是装饰器内部的函数，我接下来要对func()进行处理\n",
      "我是func，我运行了\n",
      "我已经对这个函数进行了装饰\n"
     ]
    }
   ],
   "source": [
    "function()"
   ]
  },
  {
   "cell_type": "code",
   "execution_count": 18,
   "metadata": {},
   "outputs": [
    {
     "name": "stdout",
     "output_type": "stream",
     "text": [
      "我是装饰器内部的函数，我接下来要对func()进行处理\n",
      "我是需要被装饰的，我运行了\n",
      "我已经对这个函数进行了装饰\n"
     ]
    }
   ],
   "source": [
    "@decorator\n",
    "def func():\n",
    "    print('我是需要被装饰的，我运行了')\n",
    "func()"
   ]
  },
  {
   "cell_type": "markdown",
   "metadata": {},
   "source": [
    "**所以，可以看出，装饰器只是将函数当成参数传入装饰器函数。**  "
   ]
  },
  {
   "cell_type": "markdown",
   "metadata": {},
   "source": [
    "# 装饰器的作用\n",
    "装饰器本质上是一个Python函数，**它可以让其他函数在不需要做任何代码变动的前提下增加额外功能**，  \n",
    "装饰器的返回值也是一个函数对象。  \n",
    "它经常用于有切面需求的场景，比如：插入日志、性能测试、 \n",
    "事务处理、缓存、权限校验等场景。装饰器是解决这类问题的绝佳设计，有了装饰器，\n",
    "我们就可以抽离出大量与函数功能本身无关的雷同代码并继续重用。"
   ]
  },
  {
   "cell_type": "markdown",
   "metadata": {},
   "source": [
    "## **高级一些的用法**\n",
    "前面写的函数都是不带参数的，那如果要对一个带参数的函数进行装饰呢》"
   ]
  },
  {
   "cell_type": "code",
   "execution_count": 6,
   "metadata": {},
   "outputs": [],
   "source": [
    "# 1， 我们可以将装饰器中的包裹函数的参数名对应写好：\n",
    "def f(x): # 代求根的函数\n",
    "    return x**2-2\n",
    "\n",
    "def decorate(algorithm):\n",
    "    def wrapper(f,xleft,xright,error=1e-10):\n",
    "        print('我对二分方法进行装饰啦！')\n",
    "        res = algorithm(f,xleft,xright,error)\n",
    "        print(res)\n",
    "        return res\n",
    "    return wrapper\n"
   ]
  },
  {
   "cell_type": "code",
   "execution_count": 7,
   "metadata": {},
   "outputs": [],
   "source": [
    "@decorate\n",
    "def dichotomy1(f,xleft,xright,error=1e-10):\n",
    "    fxleft = f(xleft)\n",
    "    fxright = f(xright)\n",
    "#**************************************************\n",
    "    if fxleft*fxright > 0:\n",
    "#         print('当前区域无解,返回右端点函数值\\n')\n",
    "        return None\n",
    "#**************************************************\n",
    "    while abs(xright - xleft) > error:\n",
    "        xmean = (xleft+xright)/2\n",
    "        fxmean = f(xmean)\n",
    "        if fxleft*fxmean < 0:\n",
    "            xright = xmean\n",
    "            fxright = fxmean\n",
    "        else:\n",
    "            xleft = xmean\n",
    "            fxleft = fxmean\n",
    "            \n",
    "    return (xright+xleft)/2"
   ]
  },
  {
   "cell_type": "code",
   "execution_count": 8,
   "metadata": {},
   "outputs": [
    {
     "name": "stdout",
     "output_type": "stream",
     "text": [
      "我对二分方法进行装饰啦！\n",
      "1.414213562340592\n"
     ]
    },
    {
     "data": {
      "text/plain": [
       "1.414213562340592"
      ]
     },
     "execution_count": 8,
     "metadata": {},
     "output_type": "execute_result"
    }
   ],
   "source": [
    "dichotomy1(f,0,3)"
   ]
  },
  {
   "cell_type": "markdown",
   "metadata": {},
   "source": [
    "这样写虽然可行，但是当我们换一个函数的时候，这个装饰器就基本不能用了，因为里面的参数需要根据具体函数来重写；  \n",
    "**BUT**，我们有宇宙无敌参数：**可变参数 *args 和 关键字参数 * *kwarg**"
   ]
  },
  {
   "cell_type": "code",
   "execution_count": 9,
   "metadata": {},
   "outputs": [],
   "source": [
    "def decorate2(algorithm):\n",
    "    def wrapper(*args, **kwargs):\n",
    "        print('我对二分方法进行装饰啦！')\n",
    "        print(algorithm.__name__)\n",
    "        res = algorithm(*args)\n",
    "        print(res)\n",
    "        return res\n",
    "    return wrapper\n"
   ]
  },
  {
   "cell_type": "code",
   "execution_count": 10,
   "metadata": {},
   "outputs": [],
   "source": [
    "@decorate2\n",
    "def dichotomy2(f,xleft,xright,error=1e-10):\n",
    "    fxleft = f(xleft)\n",
    "    fxright = f(xright)\n",
    "#**************************************************\n",
    "    if fxleft*fxright > 0:\n",
    "#         print('当前区域无解,返回右端点函数值\\n')\n",
    "        return None\n",
    "#**************************************************\n",
    "    while abs(xright - xleft) > error:\n",
    "        xmean = (xleft+xright)/2\n",
    "        fxmean = f(xmean)\n",
    "        if fxleft*fxmean < 0:\n",
    "            xright = xmean\n",
    "            fxright = fxmean\n",
    "        else:\n",
    "            xleft = xmean\n",
    "            fxleft = fxmean\n",
    "            \n",
    "    return (xright+xleft)/2"
   ]
  },
  {
   "cell_type": "code",
   "execution_count": 11,
   "metadata": {},
   "outputs": [
    {
     "name": "stdout",
     "output_type": "stream",
     "text": [
      "我对二分方法进行装饰啦！\n",
      "dichotomy2\n",
      "1.414213562340592\n"
     ]
    },
    {
     "data": {
      "text/plain": [
       "1.414213562340592"
      ]
     },
     "execution_count": 11,
     "metadata": {},
     "output_type": "execute_result"
    }
   ],
   "source": [
    "dichotomy2(f,0,3)"
   ]
  },
  {
   "cell_type": "code",
   "execution_count": null,
   "metadata": {},
   "outputs": [],
   "source": []
  }
 ],
 "metadata": {
  "kernelspec": {
   "display_name": "Python 3",
   "language": "python",
   "name": "python3"
  },
  "language_info": {
   "codemirror_mode": {
    "name": "ipython",
    "version": 3
   },
   "file_extension": ".py",
   "mimetype": "text/x-python",
   "name": "python",
   "nbconvert_exporter": "python",
   "pygments_lexer": "ipython3",
   "version": "3.7.3"
  },
  "latex_envs": {
   "LaTeX_envs_menu_present": true,
   "autoclose": false,
   "autocomplete": true,
   "bibliofile": "biblio.bib",
   "cite_by": "apalike",
   "current_citInitial": 1,
   "eqLabelWithNumbers": true,
   "eqNumInitial": 1,
   "hotkeys": {
    "equation": "Ctrl-E",
    "itemize": "Ctrl-I"
   },
   "labels_anchors": false,
   "latex_user_defs": false,
   "report_style_numbering": false,
   "user_envs_cfg": false
  },
  "toc": {
   "base_numbering": 1,
   "nav_menu": {},
   "number_sections": true,
   "sideBar": true,
   "skip_h1_title": false,
   "title_cell": "Table of Contents",
   "title_sidebar": "Contents",
   "toc_cell": false,
   "toc_position": {
    "height": "calc(100% - 180px)",
    "left": "10px",
    "top": "150px",
    "width": "292.571px"
   },
   "toc_section_display": true,
   "toc_window_display": true
  },
  "varInspector": {
   "cols": {
    "lenName": 16,
    "lenType": 16,
    "lenVar": 40
   },
   "kernels_config": {
    "python": {
     "delete_cmd_postfix": "",
     "delete_cmd_prefix": "del ",
     "library": "var_list.py",
     "varRefreshCmd": "print(var_dic_list())"
    },
    "r": {
     "delete_cmd_postfix": ") ",
     "delete_cmd_prefix": "rm(",
     "library": "var_list.r",
     "varRefreshCmd": "cat(var_dic_list()) "
    }
   },
   "types_to_exclude": [
    "module",
    "function",
    "builtin_function_or_method",
    "instance",
    "_Feature"
   ],
   "window_display": false
  }
 },
 "nbformat": 4,
 "nbformat_minor": 4
}
